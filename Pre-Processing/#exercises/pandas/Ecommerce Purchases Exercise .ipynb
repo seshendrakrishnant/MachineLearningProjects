{
 "cells": [
  {
   "cell_type": "markdown",
   "metadata": {},
   "source": [
    "# Ecommerce Purchases Exercise\n",
    "\n",
    "In this Exercise you will be given some Fake Data about some purchases done through Amazon! Just go ahead and follow the directions and try your best to answer the questions and complete the tasks. Feel free to reference the solutions. Most of the tasks can be solved in different ways. For the most part, the questions get progressively harder.\n",
    "\n",
    "Please excuse anything that doesn't make \"Real-World\" sense in the dataframe, all the data is fake and made-up.\n",
    "\n",
    "Also note that all of these questions can be answered with one line of code.\n",
    "____\n",
    "** Import pandas and read in the Ecommerce Purchases csv file and set it to a DataFrame called ecom. **"
   ]
  },
  {
   "cell_type": "code",
   "execution_count": 1,
   "metadata": {},
   "outputs": [],
   "source": [
    "import pandas as pd"
   ]
  },
  {
   "cell_type": "code",
   "execution_count": 2,
   "metadata": {},
   "outputs": [],
   "source": [
    "df = pd.read_csv('Ecommerce Purchases')"
   ]
  },
  {
   "cell_type": "markdown",
   "metadata": {},
   "source": [
    "**Check the head of the DataFrame.**"
   ]
  },
  {
   "cell_type": "code",
   "execution_count": 3,
   "metadata": {},
   "outputs": [
    {
     "data": {
      "text/html": [
       "<div>\n",
       "<style scoped>\n",
       "    .dataframe tbody tr th:only-of-type {\n",
       "        vertical-align: middle;\n",
       "    }\n",
       "\n",
       "    .dataframe tbody tr th {\n",
       "        vertical-align: top;\n",
       "    }\n",
       "\n",
       "    .dataframe thead th {\n",
       "        text-align: right;\n",
       "    }\n",
       "</style>\n",
       "<table border=\"1\" class=\"dataframe\">\n",
       "  <thead>\n",
       "    <tr style=\"text-align: right;\">\n",
       "      <th></th>\n",
       "      <th>Address</th>\n",
       "      <th>Lot</th>\n",
       "      <th>AM or PM</th>\n",
       "      <th>Browser Info</th>\n",
       "      <th>Company</th>\n",
       "      <th>Credit Card</th>\n",
       "      <th>CC Exp Date</th>\n",
       "      <th>CC Security Code</th>\n",
       "      <th>CC Provider</th>\n",
       "      <th>Email</th>\n",
       "      <th>Job</th>\n",
       "      <th>IP Address</th>\n",
       "      <th>Language</th>\n",
       "      <th>Purchase Price</th>\n",
       "    </tr>\n",
       "  </thead>\n",
       "  <tbody>\n",
       "    <tr>\n",
       "      <td>0</td>\n",
       "      <td>16629 Pace Camp Apt. 448\\nAlexisborough, NE 77...</td>\n",
       "      <td>46 in</td>\n",
       "      <td>PM</td>\n",
       "      <td>Opera/9.56.(X11; Linux x86_64; sl-SI) Presto/2...</td>\n",
       "      <td>Martinez-Herman</td>\n",
       "      <td>6011929061123406</td>\n",
       "      <td>02/20</td>\n",
       "      <td>900</td>\n",
       "      <td>JCB 16 digit</td>\n",
       "      <td>pdunlap@yahoo.com</td>\n",
       "      <td>Scientist, product/process development</td>\n",
       "      <td>149.146.147.205</td>\n",
       "      <td>el</td>\n",
       "      <td>98.14</td>\n",
       "    </tr>\n",
       "    <tr>\n",
       "      <td>1</td>\n",
       "      <td>9374 Jasmine Spurs Suite 508\\nSouth John, TN 8...</td>\n",
       "      <td>28 rn</td>\n",
       "      <td>PM</td>\n",
       "      <td>Opera/8.93.(Windows 98; Win 9x 4.90; en-US) Pr...</td>\n",
       "      <td>Fletcher, Richards and Whitaker</td>\n",
       "      <td>3337758169645356</td>\n",
       "      <td>11/18</td>\n",
       "      <td>561</td>\n",
       "      <td>Mastercard</td>\n",
       "      <td>anthony41@reed.com</td>\n",
       "      <td>Drilling engineer</td>\n",
       "      <td>15.160.41.51</td>\n",
       "      <td>fr</td>\n",
       "      <td>70.73</td>\n",
       "    </tr>\n",
       "    <tr>\n",
       "      <td>2</td>\n",
       "      <td>Unit 0065 Box 5052\\nDPO AP 27450</td>\n",
       "      <td>94 vE</td>\n",
       "      <td>PM</td>\n",
       "      <td>Mozilla/5.0 (compatible; MSIE 9.0; Windows NT ...</td>\n",
       "      <td>Simpson, Williams and Pham</td>\n",
       "      <td>675957666125</td>\n",
       "      <td>08/19</td>\n",
       "      <td>699</td>\n",
       "      <td>JCB 16 digit</td>\n",
       "      <td>amymiller@morales-harrison.com</td>\n",
       "      <td>Customer service manager</td>\n",
       "      <td>132.207.160.22</td>\n",
       "      <td>de</td>\n",
       "      <td>0.95</td>\n",
       "    </tr>\n",
       "    <tr>\n",
       "      <td>3</td>\n",
       "      <td>7780 Julia Fords\\nNew Stacy, WA 45798</td>\n",
       "      <td>36 vm</td>\n",
       "      <td>PM</td>\n",
       "      <td>Mozilla/5.0 (Macintosh; Intel Mac OS X 10_8_0 ...</td>\n",
       "      <td>Williams, Marshall and Buchanan</td>\n",
       "      <td>6011578504430710</td>\n",
       "      <td>02/24</td>\n",
       "      <td>384</td>\n",
       "      <td>Discover</td>\n",
       "      <td>brent16@olson-robinson.info</td>\n",
       "      <td>Drilling engineer</td>\n",
       "      <td>30.250.74.19</td>\n",
       "      <td>es</td>\n",
       "      <td>78.04</td>\n",
       "    </tr>\n",
       "    <tr>\n",
       "      <td>4</td>\n",
       "      <td>23012 Munoz Drive Suite 337\\nNew Cynthia, TX 5...</td>\n",
       "      <td>20 IE</td>\n",
       "      <td>AM</td>\n",
       "      <td>Opera/9.58.(X11; Linux x86_64; it-IT) Presto/2...</td>\n",
       "      <td>Brown, Watson and Andrews</td>\n",
       "      <td>6011456623207998</td>\n",
       "      <td>10/25</td>\n",
       "      <td>678</td>\n",
       "      <td>Diners Club / Carte Blanche</td>\n",
       "      <td>christopherwright@gmail.com</td>\n",
       "      <td>Fine artist</td>\n",
       "      <td>24.140.33.94</td>\n",
       "      <td>es</td>\n",
       "      <td>77.82</td>\n",
       "    </tr>\n",
       "  </tbody>\n",
       "</table>\n",
       "</div>"
      ],
      "text/plain": [
       "                                             Address    Lot AM or PM  \\\n",
       "0  16629 Pace Camp Apt. 448\\nAlexisborough, NE 77...  46 in       PM   \n",
       "1  9374 Jasmine Spurs Suite 508\\nSouth John, TN 8...  28 rn       PM   \n",
       "2                   Unit 0065 Box 5052\\nDPO AP 27450  94 vE       PM   \n",
       "3              7780 Julia Fords\\nNew Stacy, WA 45798  36 vm       PM   \n",
       "4  23012 Munoz Drive Suite 337\\nNew Cynthia, TX 5...  20 IE       AM   \n",
       "\n",
       "                                        Browser Info  \\\n",
       "0  Opera/9.56.(X11; Linux x86_64; sl-SI) Presto/2...   \n",
       "1  Opera/8.93.(Windows 98; Win 9x 4.90; en-US) Pr...   \n",
       "2  Mozilla/5.0 (compatible; MSIE 9.0; Windows NT ...   \n",
       "3  Mozilla/5.0 (Macintosh; Intel Mac OS X 10_8_0 ...   \n",
       "4  Opera/9.58.(X11; Linux x86_64; it-IT) Presto/2...   \n",
       "\n",
       "                           Company       Credit Card CC Exp Date  \\\n",
       "0                  Martinez-Herman  6011929061123406       02/20   \n",
       "1  Fletcher, Richards and Whitaker  3337758169645356       11/18   \n",
       "2       Simpson, Williams and Pham      675957666125       08/19   \n",
       "3  Williams, Marshall and Buchanan  6011578504430710       02/24   \n",
       "4        Brown, Watson and Andrews  6011456623207998       10/25   \n",
       "\n",
       "   CC Security Code                  CC Provider  \\\n",
       "0               900                 JCB 16 digit   \n",
       "1               561                   Mastercard   \n",
       "2               699                 JCB 16 digit   \n",
       "3               384                     Discover   \n",
       "4               678  Diners Club / Carte Blanche   \n",
       "\n",
       "                            Email                                     Job  \\\n",
       "0               pdunlap@yahoo.com  Scientist, product/process development   \n",
       "1              anthony41@reed.com                       Drilling engineer   \n",
       "2  amymiller@morales-harrison.com                Customer service manager   \n",
       "3     brent16@olson-robinson.info                       Drilling engineer   \n",
       "4     christopherwright@gmail.com                             Fine artist   \n",
       "\n",
       "        IP Address Language  Purchase Price  \n",
       "0  149.146.147.205       el           98.14  \n",
       "1     15.160.41.51       fr           70.73  \n",
       "2   132.207.160.22       de            0.95  \n",
       "3     30.250.74.19       es           78.04  \n",
       "4     24.140.33.94       es           77.82  "
      ]
     },
     "execution_count": 3,
     "metadata": {},
     "output_type": "execute_result"
    }
   ],
   "source": [
    "df.head()"
   ]
  },
  {
   "cell_type": "markdown",
   "metadata": {},
   "source": [
    "** How many rows and columns are there? **"
   ]
  },
  {
   "cell_type": "code",
   "execution_count": 4,
   "metadata": {},
   "outputs": [
    {
     "name": "stdout",
     "output_type": "stream",
     "text": [
      "<class 'pandas.core.frame.DataFrame'>\n",
      "RangeIndex: 10000 entries, 0 to 9999\n",
      "Data columns (total 14 columns):\n",
      "Address             10000 non-null object\n",
      "Lot                 10000 non-null object\n",
      "AM or PM            10000 non-null object\n",
      "Browser Info        10000 non-null object\n",
      "Company             10000 non-null object\n",
      "Credit Card         10000 non-null int64\n",
      "CC Exp Date         10000 non-null object\n",
      "CC Security Code    10000 non-null int64\n",
      "CC Provider         10000 non-null object\n",
      "Email               10000 non-null object\n",
      "Job                 10000 non-null object\n",
      "IP Address          10000 non-null object\n",
      "Language            10000 non-null object\n",
      "Purchase Price      10000 non-null float64\n",
      "dtypes: float64(1), int64(2), object(11)\n",
      "memory usage: 1.1+ MB\n"
     ]
    }
   ],
   "source": [
    "df.info()"
   ]
  },
  {
   "cell_type": "markdown",
   "metadata": {},
   "source": [
    "** What is the average Purchase Price? **"
   ]
  },
  {
   "cell_type": "code",
   "execution_count": 5,
   "metadata": {},
   "outputs": [
    {
     "data": {
      "text/plain": [
       "50.34730200000025"
      ]
     },
     "execution_count": 5,
     "metadata": {},
     "output_type": "execute_result"
    }
   ],
   "source": [
    "df['Purchase Price'].mean()"
   ]
  },
  {
   "cell_type": "markdown",
   "metadata": {},
   "source": [
    "** What were the highest and lowest purchase prices? **"
   ]
  },
  {
   "cell_type": "code",
   "execution_count": 6,
   "metadata": {},
   "outputs": [
    {
     "data": {
      "text/plain": [
       "99.99"
      ]
     },
     "execution_count": 6,
     "metadata": {},
     "output_type": "execute_result"
    }
   ],
   "source": [
    "df['Purchase Price'].max()"
   ]
  },
  {
   "cell_type": "code",
   "execution_count": 7,
   "metadata": {},
   "outputs": [
    {
     "data": {
      "text/plain": [
       "0.0"
      ]
     },
     "execution_count": 7,
     "metadata": {},
     "output_type": "execute_result"
    }
   ],
   "source": [
    "df['Purchase Price'].min()"
   ]
  },
  {
   "cell_type": "markdown",
   "metadata": {},
   "source": [
    "** How many people have English 'en' as their Language of choice on the website? **"
   ]
  },
  {
   "cell_type": "code",
   "execution_count": 8,
   "metadata": {},
   "outputs": [
    {
     "data": {
      "text/plain": [
       "array(['el', 'fr', 'de', 'es', 'ru', 'pt', 'zh', 'en', 'it'], dtype=object)"
      ]
     },
     "execution_count": 8,
     "metadata": {},
     "output_type": "execute_result"
    }
   ],
   "source": [
    "df['Language'].unique()"
   ]
  },
  {
   "cell_type": "code",
   "execution_count": 9,
   "metadata": {},
   "outputs": [
    {
     "data": {
      "text/plain": [
       "Address             1098\n",
       "Lot                 1098\n",
       "AM or PM            1098\n",
       "Browser Info        1098\n",
       "Company             1098\n",
       "Credit Card         1098\n",
       "CC Exp Date         1098\n",
       "CC Security Code    1098\n",
       "CC Provider         1098\n",
       "Email               1098\n",
       "Job                 1098\n",
       "IP Address          1098\n",
       "Language            1098\n",
       "Purchase Price      1098\n",
       "dtype: int64"
      ]
     },
     "execution_count": 9,
     "metadata": {},
     "output_type": "execute_result"
    }
   ],
   "source": [
    "df[df['Language']=='en'].count()"
   ]
  },
  {
   "cell_type": "markdown",
   "metadata": {},
   "source": [
    "** How many people have the job title of \"Lawyer\" ? **\n"
   ]
  },
  {
   "cell_type": "code",
   "execution_count": 10,
   "metadata": {},
   "outputs": [
    {
     "data": {
      "text/plain": [
       "array(['Scientist, product/process development', 'Drilling engineer',\n",
       "       'Customer service manager', 'Fine artist', 'Fish farm manager',\n",
       "       'Dancer', 'Event organiser', 'Financial manager',\n",
       "       'Forensic scientist', 'Development worker, community',\n",
       "       'Diagnostic radiographer', 'Surveyor, quantity',\n",
       "       'Accountant, chartered public finance', 'Acupuncturist',\n",
       "       'Retail manager', 'Therapist, art', 'Designer, jewellery',\n",
       "       'Photographer', 'Designer, interior/spatial',\n",
       "       'Public relations officer', 'Presenter, broadcasting',\n",
       "       'Field seismologist', 'Musician',\n",
       "       'Training and development officer', \"Barrister's clerk\",\n",
       "       'Careers adviser', 'Scientist, research (life sciences)',\n",
       "       'Recycling officer', 'Fisheries officer', 'Sales executive',\n",
       "       'Civil Service fast streamer', 'Theatre stage manager',\n",
       "       'Therapist, music', 'Lecturer, further education',\n",
       "       'Animal technologist', 'Psychologist, occupational',\n",
       "       'Music therapist', 'Minerals surveyor',\n",
       "       'Tourist information centre manager', 'Tax inspector',\n",
       "       'Buyer, industrial', 'Purchasing manager', 'Heritage manager',\n",
       "       'Games developer', 'Facilities manager', 'Chemist, analytical',\n",
       "       'Horticulturist, amenity', 'Mechanical engineer',\n",
       "       'Clinical research associate', 'Technical author',\n",
       "       'Radio broadcast assistant', 'Engineer, broadcasting (operations)',\n",
       "       'Clothing/textile technologist', 'Holiday representative',\n",
       "       'Housing manager/officer', 'Teacher, special educational needs',\n",
       "       'Engineer, agricultural', 'Buyer, retail',\n",
       "       'Doctor, general practice', 'Hotel manager',\n",
       "       'Engineer, civil (consulting)', 'General practice doctor',\n",
       "       'Jewellery designer', 'Therapist, speech and language',\n",
       "       'Operational researcher', 'Graphic designer',\n",
       "       'Editorial assistant', 'Financial adviser', 'Paramedic',\n",
       "       'Secretary, company', 'Paediatric nurse',\n",
       "       'Data processing manager', 'Print production planner',\n",
       "       'Engineer, materials', 'Economist', 'Designer, furniture',\n",
       "       'Human resources officer', 'Administrator',\n",
       "       'Teacher, secondary school', 'Video editor',\n",
       "       'Chartered certified accountant',\n",
       "       'Teacher, English as a foreign language', 'Airline pilot',\n",
       "       'Engineer, land', 'Legal secretary', 'Administrator, arts',\n",
       "       'Dealer', 'Town planner', 'Travel agency manager',\n",
       "       'Engineer, water', 'Lecturer, higher education',\n",
       "       'Higher education careers adviser', 'Intelligence analyst',\n",
       "       'Technical sales engineer', 'Dietitian',\n",
       "       'International aid/development worker',\n",
       "       'Learning disability nurse', 'Geneticist, molecular',\n",
       "       'Optometrist', 'Building surveyor', 'Sports therapist',\n",
       "       'Geophysical data processor', 'Multimedia programmer',\n",
       "       'Research scientist (maths)', 'Social worker', 'Camera operator',\n",
       "       'Interpreter', 'Furniture designer', 'Commercial horticulturist',\n",
       "       'Surgeon', 'Psychotherapist, dance movement',\n",
       "       'Information systems manager', 'Music tutor',\n",
       "       'Merchandiser, retail', 'Insurance risk surveyor',\n",
       "       'Armed forces operational officer', 'Homeopath',\n",
       "       'Animal nutritionist', 'Tourism officer', 'Cabin crew',\n",
       "       'Psychiatric nurse', 'Magazine features editor',\n",
       "       'Chartered management accountant', 'Market researcher',\n",
       "       'Mudlogger', 'Textile designer', 'Restaurant manager, fast food',\n",
       "       'Medical laboratory scientific officer',\n",
       "       'Chartered public finance accountant', 'Financial trader',\n",
       "       'Scientist, marine', 'Environmental manager',\n",
       "       'Community education officer', 'Solicitor',\n",
       "       'Psychologist, clinical', 'Occupational therapist',\n",
       "       'Retail merchandiser', 'Mental health nurse', 'Ophthalmologist',\n",
       "       'Insurance underwriter', 'Engineer, aeronautical',\n",
       "       'Chartered accountant', 'Environmental health practitioner',\n",
       "       'Research scientist (life sciences)', 'Wellsite geologist',\n",
       "       'Product designer', 'Armed forces technical officer',\n",
       "       'Television/film/video producer', 'Water quality scientist',\n",
       "       'Furniture conservator/restorer', 'Radio producer',\n",
       "       'Programmer, multimedia', 'Scientist, biomedical',\n",
       "       'Psychologist, sport and exercise', 'Merchant navy officer',\n",
       "       'Designer, television/film set', 'Engineering geologist',\n",
       "       'Health and safety inspector', 'Naval architect', 'Chiropodist',\n",
       "       'Engineer, chemical', 'Scientist, research (medical)',\n",
       "       'Personal assistant', 'Retail banker',\n",
       "       'Advertising account planner', 'Art therapist',\n",
       "       'Forest/woodland manager', 'Research scientist (medical)',\n",
       "       'Scientific laboratory technician', 'Licensed conveyancer',\n",
       "       'Engineer, building services', 'Energy engineer', 'Teacher, music',\n",
       "       'Oncologist', 'Brewing technologist', 'Community arts worker',\n",
       "       'Therapist, drama', 'Water engineer', 'Software engineer',\n",
       "       'Geochemist', 'Designer, industrial/product',\n",
       "       'Nature conservation officer',\n",
       "       'Production designer, theatre/television/film',\n",
       "       'Commercial art gallery manager', 'Exhibition designer',\n",
       "       'Education officer, environmental',\n",
       "       'Runner, broadcasting/film/video', 'Pharmacist, hospital',\n",
       "       'Doctor, hospital', 'Teacher, adult education', 'Sub',\n",
       "       'Podiatrist', 'Air broker', 'Engineer, civil (contracting)',\n",
       "       'Lexicographer', 'Speech and language therapist',\n",
       "       'Catering manager', 'Colour technologist', 'Surveyor, building',\n",
       "       'Agricultural consultant', 'Horticultural therapist',\n",
       "       'Pension scheme manager', 'Theatre manager', 'Producer, radio',\n",
       "       'Scientist, forensic', 'Surveyor, insurance',\n",
       "       'Hospital pharmacist', 'Surveyor, rural practice',\n",
       "       'Industrial/product designer', 'Corporate treasurer',\n",
       "       'Structural engineer', 'Research officer, trade union',\n",
       "       'Pensions consultant', 'Secretary/administrator', 'Firefighter',\n",
       "       'Database administrator', 'Health promotion specialist',\n",
       "       'Operations geologist', 'Regulatory affairs officer',\n",
       "       'Production assistant, radio', 'Press sub',\n",
       "       'Education administrator', 'Biomedical scientist', 'Tour manager',\n",
       "       'Midwife', 'Television floor manager', 'Mining engineer',\n",
       "       'Interior and spatial designer', 'Engineer, energy',\n",
       "       'Publishing rights manager', 'Manufacturing systems engineer',\n",
       "       'Designer, exhibition/display',\n",
       "       'Control and instrumentation engineer', 'Ergonomist',\n",
       "       'Scientist, research (maths)', 'Psychologist, forensic',\n",
       "       'Clinical scientist, histocompatibility and immunogenetics',\n",
       "       'Accommodation manager', 'Administrator, sports',\n",
       "       'Sports development officer', 'Educational psychologist',\n",
       "       'Social research officer, government', 'Quarry manager',\n",
       "       'Medical sales representative', 'Consulting civil engineer',\n",
       "       'Trade union research officer', 'Financial planner',\n",
       "       'Futures trader', 'Medical illustrator', 'Engineer, structural',\n",
       "       'Transport planner', 'Special educational needs teacher',\n",
       "       'Chiropractor', 'Therapist, sports',\n",
       "       'Scientist, research (physical sciences)', 'Site engineer',\n",
       "       'Psychologist, counselling', 'Bonds trader', 'Banker',\n",
       "       'Proofreader', 'Social researcher', 'Analytical chemist',\n",
       "       'Dramatherapist', 'Editor, commissioning', 'Sports administrator',\n",
       "       'Sport and exercise psychologist', 'Garment/textile technologist',\n",
       "       'Engineer, maintenance (IT)', 'Surveyor, building control',\n",
       "       'Media planner', 'Statistician', 'Food technologist',\n",
       "       'Chartered loss adjuster', 'Petroleum engineer',\n",
       "       'Engineer, maintenance', 'Television camera operator',\n",
       "       'Geoscientist', 'Printmaker', 'Artist', 'Hospital doctor',\n",
       "       'Systems analyst', 'Radiographer, therapeutic',\n",
       "       'Freight forwarder', 'Call centre manager', 'Theatre director',\n",
       "       'Occupational psychologist', 'Communications engineer',\n",
       "       'Land/geomatics surveyor', 'Advertising account executive',\n",
       "       'Civil engineer, consulting', 'Medical secretary',\n",
       "       'IT technical support officer', 'Advice worker',\n",
       "       'Visual merchandiser', 'Nurse, mental health',\n",
       "       'Further education lecturer', 'Investment banker, corporate',\n",
       "       'Bookseller', 'Engineer, production', 'Health visitor',\n",
       "       'Archivist', 'Recruitment consultant',\n",
       "       'Conservator, museum/gallery', 'Translator', 'Youth worker',\n",
       "       'Operational investment banker',\n",
       "       'Radiation protection practitioner',\n",
       "       'Research officer, political party', 'Make',\n",
       "       'Horticulturist, commercial', 'Surveyor, hydrographic',\n",
       "       'Engineer, communications', 'Surveyor, minerals', 'Hydrologist',\n",
       "       'Race relations officer', 'Quantity surveyor',\n",
       "       'Geologist, wellsite', 'Museum/gallery conservator',\n",
       "       'Community pharmacist', 'Adult guidance worker',\n",
       "       'Building control surveyor', 'Museum/gallery exhibitions officer',\n",
       "       'Ambulance person', 'Probation officer', 'Orthoptist',\n",
       "       'Charity officer', 'Risk analyst', 'Best boy',\n",
       "       'Arts administrator',\n",
       "       'Lighting technician, broadcasting/film/video',\n",
       "       'Engineer, drilling', 'Engineer, control and instrumentation',\n",
       "       'Medical physicist', 'Dispensing optician',\n",
       "       'Management consultant', 'Commercial/residential surveyor',\n",
       "       'English as a foreign language teacher', 'Engineer, site',\n",
       "       'Automotive engineer', 'Air traffic controller', 'Lawyer',\n",
       "       'Contracting civil engineer', 'Psychotherapist, child',\n",
       "       'Maintenance engineer', 'Science writer',\n",
       "       'Administrator, education', 'Administrator, Civil Service',\n",
       "       'Estate manager/land agent', 'Company secretary',\n",
       "       'Therapist, horticultural', 'Broadcast engineer',\n",
       "       'Sound technician, broadcasting/film/video',\n",
       "       'Private music teacher', 'Engineer, manufacturing',\n",
       "       'Emergency planning/management officer', 'Risk manager',\n",
       "       'IT consultant', 'Geographical information systems officer',\n",
       "       'Equities trader', 'Immigration officer',\n",
       "       'Therapeutic radiographer', 'Curator', 'Child psychotherapist',\n",
       "       'Advertising art director', 'Forensic psychologist',\n",
       "       'Hydrographic surveyor', 'Immunologist', 'Sports coach',\n",
       "       'Haematologist', 'Waste management officer',\n",
       "       'Conservator, furniture', 'Research officer, government',\n",
       "       'Agricultural engineer', 'IT sales professional',\n",
       "       'Armed forces logistics/support/administrative officer',\n",
       "       'Field trials officer', 'Psychotherapist', 'Air cabin crew',\n",
       "       'Psychiatrist', 'Illustrator', 'Marine scientist',\n",
       "       'Multimedia specialist', 'Cytogeneticist',\n",
       "       'Occupational hygienist', 'Charity fundraiser',\n",
       "       'Planning and development surveyor', 'Counselling psychologist',\n",
       "       'Physicist, medical', 'TEFL teacher',\n",
       "       'Research scientist (physical sciences)', 'Fashion designer',\n",
       "       'Engineer, petroleum', 'Tree surgeon',\n",
       "       'Corporate investment banker', 'Public house manager',\n",
       "       'Designer, textile', 'Public librarian',\n",
       "       'Arts development officer', 'Actor', 'Hydrogeologist',\n",
       "       'Production assistant, television', 'Embryologist, clinical',\n",
       "       'Press photographer', 'Marketing executive',\n",
       "       'Television production assistant', 'Early years teacher',\n",
       "       'Landscape architect', 'Librarian, academic', 'Web designer',\n",
       "       'Health service manager', 'Clinical psychologist',\n",
       "       'Exercise physiologist', 'Electrical engineer',\n",
       "       'Psychologist, prison and probation services',\n",
       "       'Journalist, magazine', 'Dance movement psychotherapist',\n",
       "       'Animator', 'Legal executive', 'Plant breeder/geneticist',\n",
       "       'Manufacturing engineer', 'Microbiologist', 'Biochemist, clinical',\n",
       "       'Broadcast presenter', 'Ranger/warden',\n",
       "       'Programme researcher, broadcasting/film/video', 'Dentist',\n",
       "       'Aid worker', 'Publishing copy', 'Environmental education officer',\n",
       "       'Librarian, public', 'Phytotherapist', 'Nurse, adult',\n",
       "       'Programmer, systems', 'Scientist, physiological',\n",
       "       'Secondary school teacher', 'Media buyer', 'Trade mark attorney',\n",
       "       'Editor, film/video', 'Careers information officer',\n",
       "       'Retail buyer', 'Ship broker', 'Lobbyist', 'Location manager',\n",
       "       'Surveyor, mining', 'Systems developer', 'Optician, dispensing',\n",
       "       'Chemical engineer', 'Oceanographer', 'Patent attorney',\n",
       "       'Passenger transport manager', 'Glass blower/designer',\n",
       "       'Psychologist, educational', 'Education officer, museum',\n",
       "       'Patent examiner', 'Logistics and distribution manager',\n",
       "       'Trading standards officer', 'Seismic interpreter',\n",
       "       'Local government officer', 'Clinical cytogeneticist',\n",
       "       'Biomedical engineer', 'Diplomatic Services operational officer',\n",
       "       'Land', 'Surveyor, planning and development', 'Farm manager',\n",
       "       'Claims inspector/assessor', 'Warden/ranger',\n",
       "       'Civil engineer, contracting', 'Clinical molecular geneticist',\n",
       "       'Surveyor, land/geomatics', 'Therapist, nutritional',\n",
       "       'Historic buildings inspector/conservation officer',\n",
       "       'English as a second language teacher', 'Materials engineer',\n",
       "       'Insurance broker', 'Ecologist', 'Production manager',\n",
       "       'Veterinary surgeon', 'Pilot, airline', \"Nurse, children's\",\n",
       "       'Astronomer', 'Architect', 'Conservation officer, nature',\n",
       "       'Personnel officer', 'Network engineer', 'Investment analyst',\n",
       "       'Writer', 'Designer, fashion/clothing', 'Theme park manager',\n",
       "       'Engineer, electrical', 'Art gallery manager', 'Office manager',\n",
       "       'Pharmacologist', 'Meteorologist', 'Estate agent',\n",
       "       \"Politician's assistant\", 'Environmental consultant', 'Osteopath',\n",
       "       'Amenity horticulturist', 'Physiological scientist',\n",
       "       'Public relations account executive',\n",
       "       'Senior tax professional/tax inspector', 'Arboriculturist',\n",
       "       'Radiographer, diagnostic', 'Engineer, automotive',\n",
       "       'Editor, magazine features', 'Sales professional, IT',\n",
       "       'Commissioning editor', 'Ceramics designer',\n",
       "       'Scientist, clinical (histocompatibility and immunogenetics)',\n",
       "       'Geologist, engineering', 'Designer, multimedia',\n",
       "       'Engineer, manufacturing systems', 'Clinical embryologist',\n",
       "       'Medical technical officer', 'Teacher, primary school',\n",
       "       'Set designer', 'Producer, television/film/video',\n",
       "       'Education officer, community',\n",
       "       'Conservation officer, historic buildings',\n",
       "       'Insurance account manager', 'Financial controller',\n",
       "       'Film/video editor', 'Museum/gallery curator',\n",
       "       'Accounting technician', 'Stage manager', 'Physiotherapist',\n",
       "       'Sales promotion account executive', 'Horticultural consultant',\n",
       "       'Journalist, broadcasting', 'Health and safety adviser',\n",
       "       'Building services engineer',\n",
       "       'Product/process development scientist', 'Metallurgist',\n",
       "       'Audiological scientist', 'Designer, blown glass/stained glass',\n",
       "       'Tax adviser', 'Industrial buyer',\n",
       "       'Government social research officer',\n",
       "       'Outdoor activities/education manager', 'Solicitor, Scotland',\n",
       "       'Conference centre manager', 'Health physicist',\n",
       "       'Pharmacist, community', 'Applications developer',\n",
       "       'Public affairs consultant', 'Prison officer',\n",
       "       'Production engineer', 'Actuary', 'Museum education officer',\n",
       "       'Fitness centre manager', 'Records manager',\n",
       "       'Journalist, newspaper', 'Computer games developer',\n",
       "       'Toxicologist', 'Counsellor', 'Therapist, occupational',\n",
       "       'Accountant, chartered certified', 'Insurance claims handler',\n",
       "       'Programmer, applications', 'Accountant, chartered management',\n",
       "       'Broadcast journalist', 'Energy manager', 'Barrister',\n",
       "       'Scientist, audiological', 'Designer, graphic', 'Cartographer',\n",
       "       'Community development worker', 'Engineer, mining',\n",
       "       'Special effects artist', 'Gaffer', 'Civil Service administrator',\n",
       "       'Armed forces training and education officer', 'Quality manager',\n",
       "       'Engineer, electronics', 'Development worker, international aid',\n",
       "       'Restaurant manager', 'Architectural technologist',\n",
       "       'Academic librarian', 'Fast food restaurant manager',\n",
       "       'Rural practice surveyor', 'Designer, ceramics/pottery',\n",
       "       'Police officer', 'Soil scientist', 'Technical brewer',\n",
       "       'Administrator, local government', 'Copywriter, advertising',\n",
       "       'Volunteer coordinator', 'Magazine journalist',\n",
       "       'Information officer', 'Copy', 'Advertising copywriter',\n",
       "       'Engineer, biomedical', 'Nurse, learning disability',\n",
       "       'Aeronautical engineer', 'Archaeologist', 'IT trainer',\n",
       "       'Clinical biochemist',\n",
       "       'Administrator, charities/voluntary organisations', 'Pathologist',\n",
       "       'Geophysicist/field seismologist',\n",
       "       'Investment banker, operational', 'Teacher, early years/pre',\n",
       "       'Electronics engineer', 'Exhibitions officer, museum/gallery',\n",
       "       'Nutritional therapist', 'Teaching laboratory technician',\n",
       "       'Herbalist', 'Leisure centre manager', 'Higher education lecturer',\n",
       "       'Newspaper journalist', 'Accountant, chartered',\n",
       "       'Loss adjuster, chartered', 'Surveyor, commercial/residential',\n",
       "       'Warehouse manager', 'Scientist, water quality',\n",
       "       'Primary school teacher',\n",
       "       'Chartered legal executive (England and Wales)',\n",
       "       'Telecommunications researcher', 'Equality and diversity officer',\n",
       "       'Learning mentor', 'Financial risk analyst',\n",
       "       'Engineer, technical sales', 'Adult nurse'], dtype=object)"
      ]
     },
     "execution_count": 10,
     "metadata": {},
     "output_type": "execute_result"
    }
   ],
   "source": [
    "df['Job'].unique()"
   ]
  },
  {
   "cell_type": "code",
   "execution_count": 13,
   "metadata": {},
   "outputs": [
    {
     "name": "stdout",
     "output_type": "stream",
     "text": [
      "<class 'pandas.core.frame.DataFrame'>\n",
      "Int64Index: 30 entries, 470 to 9979\n",
      "Data columns (total 14 columns):\n",
      "Address             30 non-null object\n",
      "Lot                 30 non-null object\n",
      "AM or PM            30 non-null object\n",
      "Browser Info        30 non-null object\n",
      "Company             30 non-null object\n",
      "Credit Card         30 non-null int64\n",
      "CC Exp Date         30 non-null object\n",
      "CC Security Code    30 non-null int64\n",
      "CC Provider         30 non-null object\n",
      "Email               30 non-null object\n",
      "Job                 30 non-null object\n",
      "IP Address          30 non-null object\n",
      "Language            30 non-null object\n",
      "Purchase Price      30 non-null float64\n",
      "dtypes: float64(1), int64(2), object(11)\n",
      "memory usage: 3.5+ KB\n"
     ]
    }
   ],
   "source": [
    "df[df['Job']=='Lawyer'].info()"
   ]
  },
  {
   "cell_type": "markdown",
   "metadata": {},
   "source": [
    "** How many people made the purchase during the AM and how many people made the purchase during PM ? **\n",
    "\n",
    "**(Hint: Check out [value_counts()](http://pandas.pydata.org/pandas-docs/stable/generated/pandas.Series.value_counts.html) ) **"
   ]
  },
  {
   "cell_type": "code",
   "execution_count": 14,
   "metadata": {},
   "outputs": [
    {
     "data": {
      "text/plain": [
       "PM    5068\n",
       "AM    4932\n",
       "Name: AM or PM, dtype: int64"
      ]
     },
     "execution_count": 14,
     "metadata": {},
     "output_type": "execute_result"
    }
   ],
   "source": [
    "df['AM or PM'].value_counts()"
   ]
  },
  {
   "cell_type": "markdown",
   "metadata": {},
   "source": [
    "** What are the 5 most common Job Titles? **"
   ]
  },
  {
   "cell_type": "code",
   "execution_count": 16,
   "metadata": {},
   "outputs": [
    {
     "data": {
      "text/plain": [
       "Interior and spatial designer        31\n",
       "Lawyer                               30\n",
       "Social researcher                    28\n",
       "Research officer, political party    27\n",
       "Designer, jewellery                  27\n",
       "Name: Job, dtype: int64"
      ]
     },
     "execution_count": 16,
     "metadata": {},
     "output_type": "execute_result"
    }
   ],
   "source": [
    "df['Job'].value_counts().head()"
   ]
  },
  {
   "cell_type": "markdown",
   "metadata": {},
   "source": [
    "** Someone made a purchase that came from Lot: \"90 WT\" , what was the Purchase Price for this transaction? **"
   ]
  },
  {
   "cell_type": "code",
   "execution_count": 18,
   "metadata": {},
   "outputs": [
    {
     "data": {
      "text/plain": [
       "513    75.1\n",
       "Name: Purchase Price, dtype: float64"
      ]
     },
     "execution_count": 18,
     "metadata": {},
     "output_type": "execute_result"
    }
   ],
   "source": [
    "df[df['Lot']=='90 WT']['Purchase Price']"
   ]
  },
  {
   "cell_type": "markdown",
   "metadata": {},
   "source": [
    "** What is the email of the person with the following Credit Card Number: 4926535242672853 **"
   ]
  },
  {
   "cell_type": "code",
   "execution_count": 20,
   "metadata": {},
   "outputs": [
    {
     "data": {
      "text/plain": [
       "1234    bondellen@williams-garza.com\n",
       "Name: Email, dtype: object"
      ]
     },
     "execution_count": 20,
     "metadata": {},
     "output_type": "execute_result"
    }
   ],
   "source": [
    "df[df['Credit Card']==4926535242672853]['Email']"
   ]
  },
  {
   "cell_type": "markdown",
   "metadata": {},
   "source": [
    "** How many people have American Express as their Credit Card Provider *and* made a purchase above $95 ?**"
   ]
  },
  {
   "cell_type": "code",
   "execution_count": 22,
   "metadata": {},
   "outputs": [
    {
     "data": {
      "text/plain": [
       "Address             39\n",
       "Lot                 39\n",
       "AM or PM            39\n",
       "Browser Info        39\n",
       "Company             39\n",
       "Credit Card         39\n",
       "CC Exp Date         39\n",
       "CC Security Code    39\n",
       "CC Provider         39\n",
       "Email               39\n",
       "Job                 39\n",
       "IP Address          39\n",
       "Language            39\n",
       "Purchase Price      39\n",
       "dtype: int64"
      ]
     },
     "execution_count": 22,
     "metadata": {},
     "output_type": "execute_result"
    }
   ],
   "source": [
    "df[(df['CC Provider']=='American Express') & (df['Purchase Price']>95)].count()"
   ]
  },
  {
   "cell_type": "code",
   "execution_count": 23,
   "metadata": {},
   "outputs": [
    {
     "data": {
      "text/plain": [
       "JCB 16 digit                   1716\n",
       "VISA 16 digit                  1715\n",
       "JCB 15 digit                    868\n",
       "American Express                849\n",
       "Maestro                         846\n",
       "Voyager                         829\n",
       "Discover                        817\n",
       "Mastercard                      816\n",
       "VISA 13 digit                   777\n",
       "Diners Club / Carte Blanche     767\n",
       "Name: CC Provider, dtype: int64"
      ]
     },
     "execution_count": 23,
     "metadata": {},
     "output_type": "execute_result"
    }
   ],
   "source": [
    "df['CC Provider'].value_counts()\n",
    "\n",
    "# select CC_provider from data_frame group by"
   ]
  },
  {
   "cell_type": "markdown",
   "metadata": {},
   "source": [
    "** Hard: How many people have a credit card that expires in 2025? **"
   ]
  },
  {
   "cell_type": "code",
   "execution_count": 30,
   "metadata": {},
   "outputs": [
    {
     "data": {
      "text/plain": [
       "Address             0\n",
       "Lot                 0\n",
       "AM or PM            0\n",
       "Browser Info        0\n",
       "Company             0\n",
       "Credit Card         0\n",
       "CC Exp Date         0\n",
       "CC Security Code    0\n",
       "CC Provider         0\n",
       "Email               0\n",
       "Job                 0\n",
       "IP Address          0\n",
       "Language            0\n",
       "Purchase Price      0\n",
       "CCMonth             0\n",
       "CCYear              0\n",
       "dtype: int64"
      ]
     },
     "execution_count": 30,
     "metadata": {},
     "output_type": "execute_result"
    }
   ],
   "source": [
    "# sum(df[\"CC Exp Date\"].apply(lambda x: True if x.split('/')[1] == \"25\" else False))\n",
    "\n",
    "df[['CCMonth','CCYear']] =  df['CC Exp Date'].str.split('/',expand=True)\n",
    "df[df['CCYear'] == '25']['CCYear'].count()\n",
    "\n",
    "df[df['CC Exp Date'].isin([2025])].count()\n"
   ]
  },
  {
   "cell_type": "code",
   "execution_count": 36,
   "metadata": {},
   "outputs": [
    {
     "data": {
      "text/plain": [
       "'18'"
      ]
     },
     "execution_count": 36,
     "metadata": {},
     "output_type": "execute_result"
    }
   ],
   "source": [
    "a=df['CC Exp Date'][1]\n",
    "a\n",
    "a[3:]"
   ]
  },
  {
   "cell_type": "code",
   "execution_count": 38,
   "metadata": {},
   "outputs": [
    {
     "data": {
      "text/plain": [
       "1033"
      ]
     },
     "execution_count": 38,
     "metadata": {},
     "output_type": "execute_result"
    }
   ],
   "source": [
    "sum(df['CC Exp Date'].apply(lambda x: x[3:] =='25'))"
   ]
  },
  {
   "cell_type": "markdown",
   "metadata": {},
   "source": [
    "** Hard: What are the top 5 most popular email providers/hosts (e.g. gmail.com, yahoo.com, etc...) **"
   ]
  },
  {
   "cell_type": "code",
   "execution_count": 43,
   "metadata": {},
   "outputs": [
    {
     "data": {
      "text/plain": [
       "'reed.com'"
      ]
     },
     "execution_count": 43,
     "metadata": {},
     "output_type": "execute_result"
    }
   ],
   "source": [
    "df['Email'][1].split('@')[1]"
   ]
  },
  {
   "cell_type": "code",
   "execution_count": 46,
   "metadata": {},
   "outputs": [
    {
     "data": {
      "text/plain": [
       "hotmail.com     1638\n",
       "yahoo.com       1616\n",
       "gmail.com       1605\n",
       "smith.com         42\n",
       "williams.com      37\n",
       "Name: Email, dtype: int64"
      ]
     },
     "execution_count": 46,
     "metadata": {},
     "output_type": "execute_result"
    }
   ],
   "source": [
    "df['Email'].apply(lambda x: x.split('@')[1]).value_counts().head()"
   ]
  },
  {
   "cell_type": "markdown",
   "metadata": {},
   "source": [
    "# Great Job!"
   ]
  }
 ],
 "metadata": {
  "kernelspec": {
   "display_name": "Python 3",
   "language": "python",
   "name": "python3"
  },
  "language_info": {
   "codemirror_mode": {
    "name": "ipython",
    "version": 3
   },
   "file_extension": ".py",
   "mimetype": "text/x-python",
   "name": "python",
   "nbconvert_exporter": "python",
   "pygments_lexer": "ipython3",
   "version": "3.7.4"
  }
 },
 "nbformat": 4,
 "nbformat_minor": 1
}
