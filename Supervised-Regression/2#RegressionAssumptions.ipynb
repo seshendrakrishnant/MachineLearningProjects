{
 "cells": [
  {
   "cell_type": "markdown",
   "metadata": {},
   "source": [
    "## So far we've studied following:\n",
    "\n",
    "    1. Correlation\n",
    "    2. Causation\n",
    "    3. Simple LR Model\n",
    "    4. Multivariate LR Model\n",
    "    5. Geometrical Representation\n",
    "    6. SST, SSR, SSE\n",
    "    7. Ordinary Least Square\n",
    "    8. R-Squared\n",
    "    9. Adjusted R-Squared\n",
    "    10. F-Test for overall significance of model"
   ]
  },
  {
   "cell_type": "markdown",
   "metadata": {},
   "source": [
    "#### Let's get introduced to assumptions in Linear Regression\n",
    "\n",
    "    1. Linearity \n",
    "    2. No endogeneity\n",
    "    3. Normality and Homoscedasticity\n",
    "    4. No Autocorrelation\n",
    "    5. No Multicollinearity\n",
    "\n",
    "    We've to make sure that none of the regression assumption is violated while building regression models."
   ]
  },
  {
   "cell_type": "markdown",
   "metadata": {},
   "source": [
    "Quiz:\n",
    "Q1: If a regression assumption is violated:\n",
    "\n",
    "    a) Some things change\n",
    "    b) You can not perform regression\n",
    "    c) Performing regression analysis will result in wrong results.\n",
    "    d) No big deal"
   ]
  },
  {
   "cell_type": "markdown",
   "metadata": {},
   "source": [
    "# #1 Linearity\n",
    "\n",
    "#### Relationship between independent and dependent variables should be linear.\n",
    "\n",
    "#### Fixes\n",
    "    1) Run a non-linear regression\n",
    "    2) Logarithm or exponential transformation\n",
    "        a) Quadratic relationship can be easily transformed into linear relationship using above mentioned fix.\n",
    "        \n",
    "# Quiz\n",
    "Q1:\n",
    "Linearity is easy to relax.\n",
    "\n",
    "    a) True\n",
    "    b) False\n",
    "Q2:\n",
    "What should you do if you want to employ a linear regression but the relationship in your data is not linear?\n",
    "\n",
    "    a) Not use it\n",
    "    b) Ignore it and proceed with analysis\n",
    "    c) Transform it appropriately before using it\n",
    "    d) None of the above\n",
    "<br><br><br><br><br><br><br><br>"
   ]
  },
  {
   "cell_type": "code",
   "execution_count": 2,
   "metadata": {},
   "outputs": [],
   "source": [
    "#1-a\n",
    "#2-c-Nothing stops you from performing the regression analysis, but it will yield an incorrect result. It is a big deal."
   ]
  },
  {
   "cell_type": "markdown",
   "metadata": {},
   "source": [
    "# #2 No Endogeneity\n",
    "\n",
    "#### Omitted Variable Bias - If error and independent variables or dependent variable and omitted variables are correlated somehow\n",
    "\n",
    "#### Fixes\n",
    "    1. Difficult to fix\n",
    "    2. Always sneaky\n",
    "    3. Only experience and advanced domain knowledge can help\n",
    "    4. Don't hesitate to call for help from domain experts if you can't figure it out\n",
    "    \n",
    "    \n",
    "# Quiz\n",
    "Q1.\n",
    "The easiest way to detect an omitted variable bias is through:\n",
    "\n",
    "    a) the error term\n",
    "    b) Independent variables\n",
    "    c) dependent variable\n",
    "    d) sophisticated software\n",
    "    \n",
    "<br><br><br><br><br><br><br><br><br>"
   ]
  },
  {
   "cell_type": "markdown",
   "metadata": {},
   "source": [
    "#1a-Omitted variable bias occurs when you forget to include a variable. This is reflected in the error term as the factor you forgot about is included in the error. In this way, the error is not random but includes a systematic part (the omitted variable)."
   ]
  },
  {
   "cell_type": "markdown",
   "metadata": {},
   "source": [
    "# #3 Normality and Homoscedasticity\n",
    "\n",
    "#### Homoscedasticity (constant variance) of the errors\n",
    "\n",
    "    (a) versus time (in the case of time series data)\n",
    "\n",
    "    (b) versus the predictions\n",
    "\n",
    "    (c) versus any independent variable\n",
    "\n",
    "#### Normality of the error distribution."
   ]
  },
  {
   "cell_type": "markdown",
   "metadata": {},
   "source": [
    "# #4 No Autocorrelation aka no serial correlation\n",
    "\n",
    "If there are patterns in observations\n",
    "\n",
    "It can't be relaxed. Regression assumes that error mujst be spread across the dataset, however if there is a specific pattern like a lot of selling on Mondays and lot of buying on Fridays, such patterns introduce autocorrelation.\n",
    "\n",
    "#### Detection\n",
    "    1) If there are no patterns to be seem => No Autocorrelatino\n",
    "    2) Durban-Watson test - Provided by statsmodels. Values fall between 0 and 4. 2 means no autocorrelation, while values <1 and >3 cause an alarm.\n",
    "\n",
    "#### Fixes\n",
    "    1) None - You can't relax this assumption\n",
    "    2) Avoid using linear correlation in such a setting\n",
    "\n",
    "#### Alternatives\n",
    "    1) Autoregressive model\n",
    "    2) Moving average model\n",
    "    3) Autoregressive moving average model\n",
    "    4) Autoregressive integrated moving average model\n",
    "    \n",
    "    \n",
    "# Quiz\n",
    "Q1:\n",
    "Autocorrelation is not likely to be observed in:\n",
    "\n",
    "    a) time series data\n",
    "    b) sample data\n",
    "    c) panel data\n",
    "    d) cross-sectional data\n",
    "    \n",
    "Q2:\n",
    "How do you fix autocorrelation when using a linear regression model?\n",
    "\n",
    "    a) Try to identify and remove outliers\n",
    "    b) Use log transformation\n",
    "    c) try to reduce bias by accounting for omitted variable bias\n",
    "    d) None of the above\n",
    "    \n",
    "<br><br><br><br><br><br><br><br>"
   ]
  },
  {
   "cell_type": "markdown",
   "metadata": {},
   "source": [
    "#1d-Autocorrelation is not observed in cross-sectional data. You usually spot it at time series data, which is a subset of panel data. Sample data is not relevant for this question.\n",
    "#2d-It cannot be fixed. You must use a different model."
   ]
  },
  {
   "cell_type": "markdown",
   "metadata": {},
   "source": [
    "# #5 No Multicollinearity\n",
    "\n",
    "#### When 2 variables have a high correlation with each other\n",
    "\n",
    "e.g. a = 2 + 5.b\n",
    "\n",
    "a and b have a strong correlation, so there is no use to consider both as explanatory variables as it would introduce bias.\n",
    "\n",
    "\n",
    "#### Fixes:\n",
    "    1) Drop one of the two variables\n",
    "    2) Transform them into one (e.g. average price)\n",
    "    3) Keep them both - tricky\n",
    "    \n",
    "#### Detection\n",
    "\n",
    "    Multicollinearity is a big problem but easiest to notice, and can be detected by finding the correlation between each of two pairs of independent variables\n",
    "    \n",
    "    \n",
    "# Quiz\n",
    "Q1:\n",
    "No multicollinearity is:\n",
    "\n",
    "    a) easy to spot and easy to fix\n",
    "    b) easy to spot but hard to fix\n",
    "    c) hard to spot but easy to fix\n",
    "    d) hard to spot and hard to fix\n",
    "<br><br><br><br><br><br><br><br><br>"
   ]
  },
  {
   "cell_type": "code",
   "execution_count": 5,
   "metadata": {},
   "outputs": [],
   "source": [
    "#1a"
   ]
  },
  {
   "cell_type": "markdown",
   "metadata": {},
   "source": [
    "# eof"
   ]
  }
 ],
 "metadata": {
  "kernelspec": {
   "display_name": "Python 3",
   "language": "python",
   "name": "python3"
  },
  "language_info": {
   "codemirror_mode": {
    "name": "ipython",
    "version": 3
   },
   "file_extension": ".py",
   "mimetype": "text/x-python",
   "name": "python",
   "nbconvert_exporter": "python",
   "pygments_lexer": "ipython3",
   "version": "3.7.3"
  }
 },
 "nbformat": 4,
 "nbformat_minor": 2
}
