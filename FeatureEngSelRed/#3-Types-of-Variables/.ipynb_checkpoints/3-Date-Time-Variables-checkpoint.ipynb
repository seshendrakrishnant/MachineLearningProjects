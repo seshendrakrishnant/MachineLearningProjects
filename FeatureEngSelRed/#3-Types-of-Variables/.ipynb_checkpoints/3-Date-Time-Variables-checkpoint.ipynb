{
 "cells": [
  {
   "cell_type": "markdown",
   "metadata": {},
   "source": [
    "## Dates and Times\n",
    "\n",
    "A special type of categorical variable are those that instead of taking traditional labels, like color (blue, red), or city (London, Manchester), take dates and / or time as values. For example, date of birth ('29-08-1987', '12-01-2012'), or date of application ('2016-Dec', '2013-March').\n",
    "\n",
    "Datetime variables can contain dates only, time only, or date and time.\n",
    "\n",
    "We don't usually work with a datetime variable in their raw format because:\n",
    "\n",
    "- Date variables contain a huge number of different categories\n",
    "- We can extract much more information from datetime variables by preprocessing them correctly\n",
    "\n",
    "In addition, often, date variables will contain dates that were not present in the dataset used to train the machine learning model. In fact, date variables will usually contain dates placed in the future, respect to the dates in the training dataset. Therefore, the machine learning model will not know what to do with them, because it never saw them while being trained. \n",
    "\n",
    "\n",
    "=============================================================================\n",
    "\n",
    "## In this demo: Peer to peer lending (Finance)\n",
    "\n",
    "In this demo, we will use data from the peer-o-peer finance company **Lending Club** to inspect nominal categorical variables"
   ]
  },
  {
   "cell_type": "code",
   "execution_count": 1,
   "metadata": {},
   "outputs": [],
   "source": [
    "import pandas as pd\n",
    "import numpy as np\n",
    "\n",
    "import matplotlib.pyplot as plt"
   ]
  },
  {
   "cell_type": "code",
   "execution_count": 2,
   "metadata": {},
   "outputs": [
    {
     "data": {
      "text/html": [
       "<div>\n",
       "<style scoped>\n",
       "    .dataframe tbody tr th:only-of-type {\n",
       "        vertical-align: middle;\n",
       "    }\n",
       "\n",
       "    .dataframe tbody tr th {\n",
       "        vertical-align: top;\n",
       "    }\n",
       "\n",
       "    .dataframe thead th {\n",
       "        text-align: right;\n",
       "    }\n",
       "</style>\n",
       "<table border=\"1\" class=\"dataframe\">\n",
       "  <thead>\n",
       "    <tr style=\"text-align: right;\">\n",
       "      <th></th>\n",
       "      <th>loan_amnt</th>\n",
       "      <th>grade</th>\n",
       "      <th>issue_d</th>\n",
       "      <th>purpose</th>\n",
       "      <th>last_pymnt_d</th>\n",
       "    </tr>\n",
       "  </thead>\n",
       "  <tbody>\n",
       "    <tr>\n",
       "      <td>0</td>\n",
       "      <td>5000.0</td>\n",
       "      <td>B</td>\n",
       "      <td>Dec-2011</td>\n",
       "      <td>credit_card</td>\n",
       "      <td>Jan-2015</td>\n",
       "    </tr>\n",
       "    <tr>\n",
       "      <td>1</td>\n",
       "      <td>2500.0</td>\n",
       "      <td>C</td>\n",
       "      <td>Dec-2011</td>\n",
       "      <td>car</td>\n",
       "      <td>Apr-2013</td>\n",
       "    </tr>\n",
       "    <tr>\n",
       "      <td>2</td>\n",
       "      <td>2400.0</td>\n",
       "      <td>C</td>\n",
       "      <td>Dec-2011</td>\n",
       "      <td>small_business</td>\n",
       "      <td>Jun-2014</td>\n",
       "    </tr>\n",
       "    <tr>\n",
       "      <td>3</td>\n",
       "      <td>10000.0</td>\n",
       "      <td>C</td>\n",
       "      <td>Dec-2011</td>\n",
       "      <td>other</td>\n",
       "      <td>Jan-2015</td>\n",
       "    </tr>\n",
       "    <tr>\n",
       "      <td>4</td>\n",
       "      <td>3000.0</td>\n",
       "      <td>B</td>\n",
       "      <td>Dec-2011</td>\n",
       "      <td>other</td>\n",
       "      <td>Jan-2016</td>\n",
       "    </tr>\n",
       "  </tbody>\n",
       "</table>\n",
       "</div>"
      ],
      "text/plain": [
       "   loan_amnt grade   issue_d         purpose last_pymnt_d\n",
       "0     5000.0     B  Dec-2011     credit_card     Jan-2015\n",
       "1     2500.0     C  Dec-2011             car     Apr-2013\n",
       "2     2400.0     C  Dec-2011  small_business     Jun-2014\n",
       "3    10000.0     C  Dec-2011           other     Jan-2015\n",
       "4     3000.0     B  Dec-2011           other     Jan-2016"
      ]
     },
     "execution_count": 2,
     "metadata": {},
     "output_type": "execute_result"
    }
   ],
   "source": [
    "# let's load the Lending Club dataset with a few selected columns\n",
    "\n",
    "# Variable definitions:\n",
    "#-------------------------\n",
    "# loan_amnt: loan amount requested by borrower\n",
    "# grade: risk markets in which borrowers are placed\n",
    "# purpose: intended use of the loan\n",
    "# issue_d: date the loan was issued\n",
    "# last_pymnt_d: date of last payment towards repyaing the loan\n",
    "\n",
    "use_cols = ['loan_amnt', 'grade', 'purpose', 'issue_d', 'last_pymnt_d']\n",
    "\n",
    "data = pd.read_csv('../loan.csv', usecols=use_cols)\n",
    "\n",
    "data.head()"
   ]
  },
  {
   "cell_type": "code",
   "execution_count": 3,
   "metadata": {},
   "outputs": [
    {
     "data": {
      "text/plain": [
       "loan_amnt       float64\n",
       "grade            object\n",
       "issue_d          object\n",
       "purpose          object\n",
       "last_pymnt_d     object\n",
       "dtype: object"
      ]
     },
     "execution_count": 3,
     "metadata": {},
     "output_type": "execute_result"
    }
   ],
   "source": [
    "# pandas assigns type 'object' when reading dates\n",
    "# and considers them strings.\n",
    "# Let's have a look\n",
    "\n",
    "data.dtypes"
   ]
  },
  {
   "cell_type": "markdown",
   "metadata": {},
   "source": [
    "Both issue_d and last_pymnt_d are casted as objects. Therefore, pandas will treat them as strings or categorical variables.\n",
    "\n",
    "In order to instruct pandas to treat them as dates, we need to re-cast them into datetime format. See below."
   ]
  },
  {
   "cell_type": "code",
   "execution_count": 4,
   "metadata": {},
   "outputs": [
    {
     "data": {
      "text/html": [
       "<div>\n",
       "<style scoped>\n",
       "    .dataframe tbody tr th:only-of-type {\n",
       "        vertical-align: middle;\n",
       "    }\n",
       "\n",
       "    .dataframe tbody tr th {\n",
       "        vertical-align: top;\n",
       "    }\n",
       "\n",
       "    .dataframe thead th {\n",
       "        text-align: right;\n",
       "    }\n",
       "</style>\n",
       "<table border=\"1\" class=\"dataframe\">\n",
       "  <thead>\n",
       "    <tr style=\"text-align: right;\">\n",
       "      <th></th>\n",
       "      <th>issue_d</th>\n",
       "      <th>issue_dt</th>\n",
       "      <th>last_pymnt_d</th>\n",
       "      <th>last_pymnt_dt</th>\n",
       "    </tr>\n",
       "  </thead>\n",
       "  <tbody>\n",
       "    <tr>\n",
       "      <td>0</td>\n",
       "      <td>Dec-2011</td>\n",
       "      <td>2011-12-01</td>\n",
       "      <td>Jan-2015</td>\n",
       "      <td>2015-01-01</td>\n",
       "    </tr>\n",
       "    <tr>\n",
       "      <td>1</td>\n",
       "      <td>Dec-2011</td>\n",
       "      <td>2011-12-01</td>\n",
       "      <td>Apr-2013</td>\n",
       "      <td>2013-04-01</td>\n",
       "    </tr>\n",
       "    <tr>\n",
       "      <td>2</td>\n",
       "      <td>Dec-2011</td>\n",
       "      <td>2011-12-01</td>\n",
       "      <td>Jun-2014</td>\n",
       "      <td>2014-06-01</td>\n",
       "    </tr>\n",
       "    <tr>\n",
       "      <td>3</td>\n",
       "      <td>Dec-2011</td>\n",
       "      <td>2011-12-01</td>\n",
       "      <td>Jan-2015</td>\n",
       "      <td>2015-01-01</td>\n",
       "    </tr>\n",
       "    <tr>\n",
       "      <td>4</td>\n",
       "      <td>Dec-2011</td>\n",
       "      <td>2011-12-01</td>\n",
       "      <td>Jan-2016</td>\n",
       "      <td>2016-01-01</td>\n",
       "    </tr>\n",
       "  </tbody>\n",
       "</table>\n",
       "</div>"
      ],
      "text/plain": [
       "    issue_d   issue_dt last_pymnt_d last_pymnt_dt\n",
       "0  Dec-2011 2011-12-01     Jan-2015    2015-01-01\n",
       "1  Dec-2011 2011-12-01     Apr-2013    2013-04-01\n",
       "2  Dec-2011 2011-12-01     Jun-2014    2014-06-01\n",
       "3  Dec-2011 2011-12-01     Jan-2015    2015-01-01\n",
       "4  Dec-2011 2011-12-01     Jan-2016    2016-01-01"
      ]
     },
     "execution_count": 4,
     "metadata": {},
     "output_type": "execute_result"
    }
   ],
   "source": [
    "# now let's parse the dates, currently coded as strings, into datetime format\n",
    "# this will allow us to make some analysis afterwards\n",
    "\n",
    "data['issue_dt'] = pd.to_datetime(data.issue_d)\n",
    "data['last_pymnt_dt'] = pd.to_datetime(data.last_pymnt_d)\n",
    "\n",
    "data[['issue_d', 'issue_dt', 'last_pymnt_d', 'last_pymnt_dt']].head()"
   ]
  },
  {
   "cell_type": "code",
   "execution_count": 5,
   "metadata": {},
   "outputs": [
    {
     "name": "stderr",
     "output_type": "stream",
     "text": [
      "/Users/vipulgaur/opt/anaconda3/lib/python3.7/site-packages/pandas/plotting/_matplotlib/core.py:1085: UserWarning: Attempting to set identical left == right == 734472.0 results in singular transformations; automatically expanding.\n",
      "  ax.set_xlim(left, right)\n"
     ]
    },
    {
     "data": {
      "text/plain": [
       "Text(0, 0.5, 'Disbursed Amount (US Dollars)')"
      ]
     },
     "execution_count": 5,
     "metadata": {},
     "output_type": "execute_result"
    },
    {
     "data": {
      "image/png": "[encoded data removed]",
      "text/plain": [
       "<Figure size 1008x576 with 1 Axes>"
      ]
     },
     "metadata": {
      "needs_background": "light"
     },
     "output_type": "display_data"
    }
   ],
   "source": [
    "# let's see how much money Lending Club has disbursed\n",
    "# (i.e., lent) over the years to the different risk\n",
    "# markets (grade variable)\n",
    "\n",
    "fig = data.groupby(['issue_dt', 'grade'])['loan_amnt'].sum().unstack().plot(\n",
    "    figsize=(14, 8), linewidth=2)\n",
    "\n",
    "fig.set_title('Disbursed amount in time')\n",
    "fig.set_ylabel('Disbursed Amount (US Dollars)')"
   ]
  },
  {
   "cell_type": "markdown",
   "metadata": {},
   "source": [
    "Lending Club seems to have increased the amount of money lent from 2013 onwards. The tendency indicates that they continue to grow. In addition, we can see that their major business comes from lending money to C and B grades.\n",
    "\n",
    "'A' grades are the lower risk borrowers, borrowers that most likely will be able to repay their loans, as they are typically in a better financial situation. Borrowers within this grade are charged lower interest rates.\n",
    "\n",
    "E, F and G grades represent the riskier borrowers. Usually borrowers in somewhat tighter financial situations, or for whom there is not sufficient financial history to make a reliable credit assessment. They are typically charged higher rates, as the business, and therefore the investors, take a higher risk when lending them money."
   ]
  },
  {
   "cell_type": "markdown",
   "metadata": {
    "collapsed": true
   },
   "source": [
    "**That is all for this demonstration. I hope you enjoyed the notebook, and see you in the next one.**"
   ]
  }
 ],
 "metadata": {
  "kernelspec": {
   "display_name": "Python 3",
   "language": "python",
   "name": "python3"
  },
  "language_info": {
   "codemirror_mode": {
    "name": "ipython",
    "version": 3
   },
   "file_extension": ".py",
   "mimetype": "text/x-python",
   "name": "python",
   "nbconvert_exporter": "python",
   "pygments_lexer": "ipython3",
   "version": "3.7.4"
  },
  "toc": {
   "base_numbering": 1,
   "nav_menu": {},
   "number_sections": true,
   "sideBar": true,
   "skip_h1_title": false,
   "title_cell": "Table of Contents",
   "title_sidebar": "Contents",
   "toc_cell": false,
   "toc_position": {
    "height": "563px",
    "left": "0px",
    "right": "867.4px",
    "top": "107px",
    "width": "210.2px"
   },
   "toc_section_display": "block",
   "toc_window_display": true
  }
 },
 "nbformat": 4,
 "nbformat_minor": 1
}
