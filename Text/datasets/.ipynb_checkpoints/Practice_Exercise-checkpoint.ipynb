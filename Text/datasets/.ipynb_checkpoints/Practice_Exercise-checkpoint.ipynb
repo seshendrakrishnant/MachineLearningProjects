{
 "cells": [
  {
   "cell_type": "markdown",
   "metadata": {},
   "source": [
    "# 0. Dataset : Wiki Corpus ../datasets/wiki_corpus.txt\n",
    "\n",
    "# 1. Implement different types of tokenizers\n",
    "\n",
    "# 2. Remove stop words and punctuations\n",
    "\n",
    "# 3. Perform Stemming and Lemmatization\n",
    "\n",
    "# 4. Evaluate POS tags for tokens \n",
    "\n",
    "# 5. Print NER words"
   ]
  },
  {
   "cell_type": "code",
   "execution_count": 1,
   "metadata": {},
   "outputs": [],
   "source": [
    "import nltk"
   ]
  },
  {
   "cell_type": "code",
   "execution_count": 2,
   "metadata": {},
   "outputs": [],
   "source": [
    "with open('../datasets/wiki_corpus.txt', 'r') as myfile:\n",
    "    data=myfile.read().replace('\\n', '')"
   ]
  },
  {
   "cell_type": "code",
   "execution_count": 5,
   "metadata": {},
   "outputs": [],
   "source": [
    "data2 = data.replace(\"/\",\"\")"
   ]
  },
  {
   "cell_type": "code",
   "execution_count": 6,
   "metadata": {},
   "outputs": [
    {
     "data": {
      "text/plain": [
       "\"Apple Inc. is an American multinational technology company headquartered in Cupertino, California, that designs, develops, and sells consumer electronics, computer software, and online services. The company's hardware products include the iPhone smartphone, the iPad tablet computer, the Mac personal computer, the iPod portable media player, the Apple Watch smartwatch, the Apple TV digital media player, and the HomePod smart speaker. Apple's software includes the macOS and iOS operating systems, the iTunes media player, the Safari web browser, and the iLife and iWork creativity and productivity suites, as well as professional applications like Final Cut Pro, Logic Pro, and Xcode. Its online services include the iTunes Store, the iOS App Store and Mac App Store, Apple Music, and iCloud.Apple was founded by Steve Jobs, Steve Wozniak, and Ronald Wayne in April 1976 to develop and sell Wozniak's Apple I personal computer. It was incorporated as Apple Computer, Inc., in January 1977, and sales of its computers, including the Apple II, grew quickly. Within a few years, Jobs and Wozniak had hired a staff of computer designers and had a production line. Apple went public in 1980 to instant financial success. Over the next few years, Apple shipped new computers featuring innovative graphical user interfaces, such as the original Macintosh in 1984, and Apple's marketing commercials for its products received widespread critical acclaim. However, the high price tag of its products and limited software titles caused problems, as did power struggles between executives at the company. In 1985, Wozniak stepped away from Apple, while Jobs resigned and founded a new company—NeXT—with former Apple employees.As the market for personal computers increased, Apple's computers lost share to lower-priced products, particularly ones that ran the Microsoft Windows operating system. After more executive job shuffles, CEO Gil Amelio in 1997 bought NeXT to bring Jobs back. Jobs regained leadership within the company and became the new CEO shortly after. He began to rebuild Apple's status, opening Apple's own retail stores in 2001, acquiring numerous companies to create a portfolio of software titles, and changing some of the hardware used in its computers. The company returned to profitability. In January 2007, Jobs renamed the company Apple Inc., reflecting its shifted focus toward consumer electronics, and announced the iPhone, which saw critical acclaim and significant financial success. In August 2011, Jobs resigned as CEO due to health complications, and Tim Cook became the new CEO. Two months later, Jobs died, marking the end of an era for the company.Apple is well known for its size and revenues. Its worldwide annual revenue totaled $265 billion for the 2018 fiscal year. Apple is the world's largest information technology company by revenue and the world's third-largest mobile phone manufacturer after Samsung and Huawei.[6] In August 2018, Apple became the first public U.S. company to be valued at over US$1 trillion.[7][8] The company employs 123,000 full-time employees[9] and maintains 504 retail stores in 24 countries as of 2018.[10] It operates the iTunes Store, which is the world's largest music retailer. As of January 2018, more than 1.3 billion Apple products are actively in use worldwide.[11] The company also has a high level of brand loyalty and is ranked as the world's most valuable brand. However, Apple receives significant criticism regarding the labor practices of its contractors, its environmental practices and unethical business practices, including anti-competitive behavior, as well as the origins of source materials.\""
      ]
     },
     "execution_count": 6,
     "metadata": {},
     "output_type": "execute_result"
    }
   ],
   "source": [
    "data2"
   ]
  },
  {
   "cell_type": "code",
   "execution_count": 7,
   "metadata": {},
   "outputs": [],
   "source": [
    "from nltk import sent_tokenize, word_tokenize\n",
    "\n"
   ]
  },
  {
   "cell_type": "code",
   "execution_count": 8,
   "metadata": {},
   "outputs": [],
   "source": [
    "sents = sent_tokenize(data2)"
   ]
  },
  {
   "cell_type": "code",
   "execution_count": 10,
   "metadata": {},
   "outputs": [
    {
     "data": {
      "text/plain": [
       "list"
      ]
     },
     "execution_count": 10,
     "metadata": {},
     "output_type": "execute_result"
    }
   ],
   "source": [
    "type(sents)"
   ]
  },
  {
   "cell_type": "code",
   "execution_count": 13,
   "metadata": {},
   "outputs": [],
   "source": [
    "for sent in sents:\n",
    "    words=word_tokenize(sent)\n",
    "    #print(word_tokenize(sent))\n",
    "\n",
    "#words"
   ]
  },
  {
   "cell_type": "code",
   "execution_count": 19,
   "metadata": {},
   "outputs": [],
   "source": [
    "from nltk.corpus import stopwords\n",
    "stopwords_en = set(stopwords.words('english'))"
   ]
  },
  {
   "cell_type": "code",
   "execution_count": 20,
   "metadata": {},
   "outputs": [
    {
     "data": {
      "text/plain": [
       "'!\"#$%&\\'()*+,-./:;<=>?@[\\\\]^_`{|}~'"
      ]
     },
     "execution_count": 20,
     "metadata": {},
     "output_type": "execute_result"
    }
   ],
   "source": [
    "from string import punctuation\n",
    "punctuation"
   ]
  },
  {
   "cell_type": "code",
   "execution_count": 21,
   "metadata": {},
   "outputs": [
    {
     "data": {
      "text/plain": [
       "set"
      ]
     },
     "execution_count": 21,
     "metadata": {},
     "output_type": "execute_result"
    }
   ],
   "source": [
    "type(stopwords_en)"
   ]
  },
  {
   "cell_type": "code",
   "execution_count": 22,
   "metadata": {},
   "outputs": [
    {
     "data": {
      "text/plain": [
       "str"
      ]
     },
     "execution_count": 22,
     "metadata": {},
     "output_type": "execute_result"
    }
   ],
   "source": [
    "type(punctuation)"
   ]
  },
  {
   "cell_type": "code",
   "execution_count": 23,
   "metadata": {},
   "outputs": [],
   "source": [
    "stopwords_en_withpunct = stopwords_en.union(set(punctuation))"
   ]
  },
  {
   "cell_type": "code",
   "execution_count": 26,
   "metadata": {},
   "outputs": [],
   "source": [
    "single_tokenized_lowered = list(map(str.lower,word_tokenize(data2)))\n",
    "\n",
    "data3 = [word for word in single_tokenized_lowered if word not in stopwords_en_withpunct]"
   ]
  },
  {
   "cell_type": "code",
   "execution_count": 39,
   "metadata": {},
   "outputs": [],
   "source": [
    "from nltk.stem import PorterStemmer\n",
    "porter = PorterStemmer()\n",
    "\n",
    "#for word in data3:\n",
    "#     print(porter.stem(word))"
   ]
  },
  {
   "cell_type": "code",
   "execution_count": 40,
   "metadata": {
    "scrolled": false
   },
   "outputs": [],
   "source": [
    "from nltk.stem import WordNetLemmatizer\n",
    "wnl = WordNetLemmatizer()\n",
    "#for word in data3:\n",
    "#    print(wnl.lemmatize(word))"
   ]
  },
  {
   "cell_type": "code",
   "execution_count": 38,
   "metadata": {},
   "outputs": [
    {
     "name": "stdout",
     "output_type": "stream",
     "text": [
      "[('Apple', 'NNP'), ('Inc.', 'NNP'), ('American', 'NNP'), ('multinational', 'NNP'), ('technology', 'NN'), ('company', 'NN'), ('headquartered', 'VBD'), ('Cupertino', 'NNP'), ('California', 'NNP'), ('designs', 'VBZ'), ('develops', 'NNS'), ('sells', 'VBZ'), ('consumer', 'NN'), ('electronics', 'NNS'), ('computer', 'NN'), ('software', 'NN'), ('online', 'NN'), ('services', 'NNS')]\n",
      "[('The', 'DT'), ('company', 'NN'), (\"'s\", 'POS'), ('hardware', 'NN'), ('products', 'NNS'), ('include', 'VBP'), ('iPhone', 'JJ'), ('smartphone', 'NN'), ('iPad', 'NN'), ('tablet', 'NN'), ('computer', 'NN'), ('Mac', 'NNP'), ('personal', 'JJ'), ('computer', 'NN'), ('iPod', 'NN'), ('portable', 'JJ'), ('media', 'NNS'), ('player', 'NN'), ('Apple', 'NNP'), ('Watch', 'NNP'), ('smartwatch', 'NN'), ('Apple', 'NNP'), ('TV', 'NNP'), ('digital', 'JJ'), ('media', 'NNS'), ('player', 'NN'), ('HomePod', 'NNP'), ('smart', 'NN'), ('speaker', 'NN')]\n",
      "[('Apple', 'NNP'), (\"'s\", 'POS'), ('software', 'NN'), ('includes', 'VBZ'), ('macOS', 'JJ'), ('iOS', 'NN'), ('operating', 'VBG'), ('systems', 'NNS'), ('iTunes', 'JJ'), ('media', 'NNS'), ('player', 'NN'), ('Safari', 'NNP'), ('web', 'VBZ'), ('browser', 'JJR'), ('iLife', 'NN'), ('iWork', 'NN'), ('creativity', 'NN'), ('productivity', 'NN'), ('suites', 'VBZ'), ('well', 'RB'), ('professional', 'JJ'), ('applications', 'NNS'), ('like', 'IN'), ('Final', 'NNP'), ('Cut', 'NNP'), ('Pro', 'NNP'), ('Logic', 'NNP'), ('Pro', 'NNP'), ('Xcode', 'NN')]\n",
      "[('Its', 'PRP$'), ('online', 'NN'), ('services', 'NNS'), ('include', 'VBP'), ('iTunes', 'NNS'), ('Store', 'NNP'), ('iOS', 'NN'), ('App', 'NNP'), ('Store', 'NNP'), ('Mac', 'NNP'), ('App', 'NNP'), ('Store', 'NNP'), ('Apple', 'NNP'), ('Music', 'NNP'), ('iCloud.Apple', 'NN'), ('founded', 'VBD'), ('Steve', 'NNP'), ('Jobs', 'NNP'), ('Steve', 'NNP'), ('Wozniak', 'NNP'), ('Ronald', 'NNP'), ('Wayne', 'NNP'), ('April', 'NNP'), ('1976', 'CD'), ('develop', 'NN'), ('sell', 'VBP'), ('Wozniak', 'NNP'), (\"'s\", 'POS'), ('Apple', 'NNP'), ('I', 'PRP'), ('personal', 'JJ'), ('computer', 'NN')]\n",
      "[('It', 'PRP'), ('incorporated', 'VBD'), ('Apple', 'NNP'), ('Computer', 'NNP'), ('Inc.', 'NNP'), ('January', 'NNP'), ('1977', 'CD'), ('sales', 'NNS'), ('computers', 'NNS'), ('including', 'VBG'), ('Apple', 'NNP'), ('II', 'NNP'), ('grew', 'VBD'), ('quickly', 'RB')]\n",
      "[('Within', 'IN'), ('years', 'NNS'), ('Jobs', 'NNP'), ('Wozniak', 'NNP'), ('hired', 'VBD'), ('staff', 'NN'), ('computer', 'NN'), ('designers', 'NNS'), ('production', 'NN'), ('line', 'NN')]\n",
      "[('Apple', 'NNP'), ('went', 'VBD'), ('public', 'JJ'), ('1980', 'CD'), ('instant', 'JJ'), ('financial', 'JJ'), ('success', 'NN')]\n",
      "[('Over', 'IN'), ('next', 'JJ'), ('years', 'NNS'), ('Apple', 'NNP'), ('shipped', 'VBD'), ('new', 'JJ'), ('computers', 'NNS'), ('featuring', 'VBG'), ('innovative', 'JJ'), ('graphical', 'JJ'), ('user', 'NN'), ('interfaces', 'NNS'), ('original', 'JJ'), ('Macintosh', 'NNP'), ('1984', 'CD'), ('Apple', 'NNP'), (\"'s\", 'POS'), ('marketing', 'NN'), ('commercials', 'NNS'), ('products', 'NNS'), ('received', 'VBN'), ('widespread', 'JJ'), ('critical', 'JJ'), ('acclaim', 'NN')]\n",
      "[('However', 'RB'), ('high', 'JJ'), ('price', 'NN'), ('tag', 'NN'), ('products', 'NNS'), ('limited', 'VBN'), ('software', 'NN'), ('titles', 'NNS'), ('caused', 'VBD'), ('problems', 'NNS'), ('power', 'NN'), ('struggles', 'VBZ'), ('executives', 'NNS'), ('company', 'NN')]\n",
      "[('In', 'IN'), ('1985', 'CD'), ('Wozniak', 'NNP'), ('stepped', 'VBD'), ('away', 'RB'), ('Apple', 'NNP'), ('Jobs', 'NNP'), ('resigned', 'VBD'), ('founded', 'VBD'), ('new', 'JJ'), ('company—NeXT—with', 'JJ'), ('former', 'JJ'), ('Apple', 'NNP'), ('employees.As', 'NN'), ('market', 'NN'), ('personal', 'JJ'), ('computers', 'NNS'), ('increased', 'VBD'), ('Apple', 'NNP'), (\"'s\", 'POS'), ('computers', 'NNS'), ('lost', 'VBD'), ('share', 'NN'), ('lower-priced', 'JJ'), ('products', 'NNS'), ('particularly', 'RB'), ('ones', 'NNS'), ('ran', 'VBD'), ('Microsoft', 'NNP'), ('Windows', 'NNP'), ('operating', 'VBG'), ('system', 'NN')]\n",
      "[('After', 'IN'), ('executive', 'JJ'), ('job', 'NN'), ('shuffles', 'NNS'), ('CEO', 'NNP'), ('Gil', 'NNP'), ('Amelio', 'NNP'), ('1997', 'CD'), ('bought', 'VBD'), ('NeXT', 'NNP'), ('bring', 'NN'), ('Jobs', 'NNP'), ('back', 'RB')]\n",
      "[('Jobs', 'NNP'), ('regained', 'VBD'), ('leadership', 'NN'), ('within', 'IN'), ('company', 'NN'), ('became', 'VBD'), ('new', 'JJ'), ('CEO', 'NNP'), ('shortly', 'RB')]\n",
      "[('He', 'PRP'), ('began', 'VBD'), ('rebuild', 'JJ'), ('Apple', 'NNP'), (\"'s\", 'POS'), ('status', 'NN'), ('opening', 'NN'), ('Apple', 'NNP'), (\"'s\", 'POS'), ('retail', 'JJ'), ('stores', 'NNS'), ('2001', 'CD'), ('acquiring', 'VBG'), ('numerous', 'JJ'), ('companies', 'NNS'), ('create', 'VBP'), ('portfolio', 'NN'), ('software', 'NN'), ('titles', 'NNS'), ('changing', 'VBG'), ('hardware', 'NN'), ('used', 'VBN'), ('computers', 'NNS')]\n",
      "[('The', 'DT'), ('company', 'NN'), ('returned', 'VBD'), ('profitability', 'NN')]\n",
      "[('In', 'IN'), ('January', 'NNP'), ('2007', 'CD'), ('Jobs', 'NNP'), ('renamed', 'VBD'), ('company', 'NN'), ('Apple', 'NNP'), ('Inc.', 'NNP'), ('reflecting', 'VBG'), ('shifted', 'VBD'), ('focus', 'NN'), ('toward', 'IN'), ('consumer', 'NN'), ('electronics', 'NNS'), ('announced', 'VBD'), ('iPhone', 'NN'), ('saw', 'VBD'), ('critical', 'JJ'), ('acclaim', 'NN'), ('significant', 'JJ'), ('financial', 'JJ'), ('success', 'NN')]\n",
      "[('In', 'IN'), ('August', 'NNP'), ('2011', 'CD'), ('Jobs', 'NNP'), ('resigned', 'VBD'), ('CEO', 'NNP'), ('due', 'JJ'), ('health', 'NN'), ('complications', 'NNS'), ('Tim', 'NNP'), ('Cook', 'NNP'), ('became', 'VBD'), ('new', 'JJ'), ('CEO', 'NNP')]\n",
      "[('Two', 'CD'), ('months', 'NNS'), ('later', 'RB'), ('Jobs', 'NNP'), ('died', 'VBD'), ('marking', 'VBG'), ('end', 'NN'), ('era', 'NN'), ('company.Apple', 'NN'), ('well', 'RB'), ('known', 'VBN'), ('size', 'NN'), ('revenues', 'NNS')]\n",
      "[('Its', 'PRP$'), ('worldwide', 'JJ'), ('annual', 'JJ'), ('revenue', 'NN'), ('totaled', 'VBD'), ('265', 'CD'), ('billion', 'CD'), ('2018', 'CD'), ('fiscal', 'JJ'), ('year', 'NN')]\n",
      "[('Apple', 'NNP'), ('world', 'NN'), (\"'s\", 'POS'), ('largest', 'JJS'), ('information', 'NN'), ('technology', 'NN'), ('company', 'NN'), ('revenue', 'NN'), ('world', 'NN'), (\"'s\", 'POS'), ('third-largest', 'JJ'), ('mobile', 'JJ'), ('phone', 'NN'), ('manufacturer', 'NN'), ('Samsung', 'NNP'), ('Huawei', 'NNP')]\n",
      "[('6', 'CD'), ('In', 'IN'), ('August', 'NNP'), ('2018', 'CD'), ('Apple', 'NNP'), ('became', 'VBD'), ('first', 'JJ'), ('public', 'JJ'), ('U.S.', 'NNP'), ('company', 'NN'), ('valued', 'VBD'), ('US', 'NNP'), ('1', 'CD'), ('trillion', 'CD')]\n",
      "[('7', 'CD'), ('8', 'CD'), ('The', 'DT'), ('company', 'NN'), ('employs', 'VBZ'), ('123,000', 'CD'), ('full-time', 'JJ'), ('employees', 'NNS'), ('9', 'CD'), ('maintains', 'NNS'), ('504', 'CD'), ('retail', 'JJ'), ('stores', 'NNS'), ('24', 'CD'), ('countries', 'NNS'), ('2018', 'CD')]\n",
      "[('10', 'CD'), ('It', 'PRP'), ('operates', 'VBZ'), ('iTunes', 'NNS'), ('Store', 'NNP'), ('world', 'NN'), (\"'s\", 'POS'), ('largest', 'JJS'), ('music', 'NN'), ('retailer', 'NN')]\n",
      "[('As', 'IN'), ('January', 'NNP'), ('2018', 'CD'), ('1.3', 'CD'), ('billion', 'CD'), ('Apple', 'NNP'), ('products', 'NNS'), ('actively', 'RB'), ('use', 'VBP'), ('worldwide', 'JJ')]\n",
      "[('11', 'CD'), ('The', 'DT'), ('company', 'NN'), ('also', 'RB'), ('high', 'JJ'), ('level', 'NN'), ('brand', 'NN'), ('loyalty', 'NN'), ('ranked', 'VBD'), ('world', 'NN'), (\"'s\", 'POS'), ('valuable', 'JJ'), ('brand', 'NN')]\n",
      "[('However', 'RB'), ('Apple', 'NNP'), ('receives', 'VBZ'), ('significant', 'JJ'), ('criticism', 'NN'), ('regarding', 'VBG'), ('labor', 'NN'), ('practices', 'NNS'), ('contractors', 'NNS'), ('environmental', 'JJ'), ('practices', 'NNS'), ('unethical', 'JJ'), ('business', 'NN'), ('practices', 'NNS'), ('including', 'VBG'), ('anti-competitive', 'JJ'), ('behavior', 'NN'), ('well', 'RB'), ('origins', 'VBZ'), ('source', 'NN'), ('materials', 'NNS')]\n"
     ]
    }
   ],
   "source": [
    "tokenized = sent_tokenize(data2) \n",
    "for i in tokenized: \n",
    "    wordsList = nltk.word_tokenize(i) \n",
    "    wordsList = [w for w in wordsList if not w in stopwords_en_withpunct]  \n",
    "    tagged = nltk.pos_tag(wordsList) \n",
    "  \n",
    "    print(tagged)"
   ]
  },
  {
   "cell_type": "code",
   "execution_count": 31,
   "metadata": {},
   "outputs": [],
   "source": [
    "tagged = nltk.pos_tag(data4) "
   ]
  },
  {
   "cell_type": "code",
   "execution_count": 32,
   "metadata": {},
   "outputs": [
    {
     "data": {
      "text/plain": [
       "[('m', 'VB'),\n",
       " ('a', 'DT'),\n",
       " ('t', 'NN'),\n",
       " ('e', 'NN'),\n",
       " ('r', 'NN'),\n",
       " ('i', 'VBZ'),\n",
       " ('a', 'DT'),\n",
       " ('l', 'NN')]"
      ]
     },
     "execution_count": 32,
     "metadata": {},
     "output_type": "execute_result"
    }
   ],
   "source": [
    "tagged"
   ]
  },
  {
   "cell_type": "markdown",
   "metadata": {},
   "source": [
    "# Print NER words"
   ]
  },
  {
   "cell_type": "code",
   "execution_count": 43,
   "metadata": {},
   "outputs": [
    {
     "name": "stdout",
     "output_type": "stream",
     "text": [
      "{'Tim Cook', 'Cupertino', 'Xcode', 'iPhone', 'HomePod', 'iTunes', 'California', 'Logic Pro', 'Ronald Wayne', 'Samsung', 'Steve Jobs', 'Safari', 'Apple Music', 'Jobs', 'Wozniak', 'CEO Gil Amelio', 'US', 'iPod', 'Final Cut Pro', 'iOS App Store', 'Huawei', 'Mac App Store', 'iWork', 'iLife', 'Mac', 'Apple Inc.', 'Apple Computer', 'CEO', 'American', 'iTunes Store', 'Apple II', 'Apple Watch', 'macOS', 'Microsoft', 'iOS', 'iPad', 'NeXT', 'Apple', 'U.S.', 'Steve Wozniak'}\n"
     ]
    }
   ],
   "source": [
    "sents=nltk.sent_tokenize(data2)\n",
    "\n",
    "tokenized_sentences = [nltk.word_tokenize(sent) for sent in sents]\n",
    "tagged_sentences = [nltk.pos_tag(sentence) for sentence in tokenized_sentences]\n",
    "chunk_sent = nltk.ne_chunk_sents(tagged_sentences,binary=True)\n",
    "\n",
    "def extract_entity_names(t):\n",
    "    entity_names = []\n",
    "    if hasattr(t, 'label') and t.label:\n",
    "        if t.label() == 'NE':\n",
    "            entity_names.append(' '.join([child[0] for child in t]))\n",
    "        else:\n",
    "            for child in t:\n",
    "                entity_names.extend(extract_entity_names(child))\n",
    "    return entity_names\n",
    "\n",
    "\n",
    "entity_names = []\n",
    "\n",
    "for tree in chunk_sent:\n",
    "    entity_names.extend(extract_entity_names(tree))\n",
    "# Print unique entity names\n",
    "print (set(entity_names))"
   ]
  },
  {
   "cell_type": "code",
   "execution_count": null,
   "metadata": {},
   "outputs": [],
   "source": []
  }
 ],
 "metadata": {
  "kernelspec": {
   "display_name": "Python 3",
   "language": "python",
   "name": "python3"
  },
  "language_info": {
   "codemirror_mode": {
    "name": "ipython",
    "version": 3
   },
   "file_extension": ".py",
   "mimetype": "text/x-python",
   "name": "python",
   "nbconvert_exporter": "python",
   "pygments_lexer": "ipython3",
   "version": "3.7.3"
  }
 },
 "nbformat": 4,
 "nbformat_minor": 2
}
