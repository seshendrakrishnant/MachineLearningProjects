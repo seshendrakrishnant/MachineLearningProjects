{
 "cells": [
  {
   "cell_type": "markdown",
   "metadata": {},
   "source": [
    "# Program to determine whether a given matrix is a sparse matrix\n",
    "\n",
    "## Sparse Matrix\n",
    "\n",
    "#### A matrix is said to be sparse matrix if most of the elements of that matrix are 0. \n",
    "\n",
    "#### It implies that it contains very less non-zero elements.\n",
    "\n",
    "#### To check whether the given matrix is the sparse matrix or not:\n",
    "\n",
    "* First count the number of zero elements present in the matrix. \n",
    "\n",
    "\n",
    "* Then calculate the size of the matrix. \n",
    "\n",
    "\n",
    "* For the matrix to be sparse, count of zero elements present in an array must be greater than size/2.\n",
    "\n",
    "<img src='../../img/sparse.JPG'>\n",
    "\n",
    "\n",
    "Number of zeroes present in above matrix is 6 and size of the matrix is 3 * 3 = 9. Since, 6 > 4.5 that means, most elements of given array are zero. Hence, the above matrix is a sparse matrix.\n",
    "\n",
    "## Algorithm\n",
    "1. Declare and initialize a two-dimensional array a.\n",
    "\n",
    "\n",
    "2. Calculate the number of rows and columns present in the given array and store it in variables rows and cols respectively.\n",
    "\n",
    "\n",
    "3. Loop through the array and count the number of zeroes present in the given array and store in the variable count.\n",
    "\n",
    "\n",
    "4. Calculate the size of the array by multiplying the number of rows with many columns of the array.\n",
    "\n",
    "\n",
    "5. If the count is greater than size/2, given matrix is the sparse matrix. That means, most of the elements of the array are zeroes.\n",
    "\n",
    "\n",
    "6. Else, the matrix is not a sparse matrix.\n"
   ]
  },
  {
   "cell_type": "code",
   "execution_count": 2,
   "metadata": {},
   "outputs": [
    {
     "name": "stdout",
     "output_type": "stream",
     "text": [
      "Given matrix is a sparse matrix\n"
     ]
    }
   ],
   "source": [
    "#Initialize matrix a  \n",
    "a = [    \n",
    "        [4, 0, 0],  \n",
    "        [0, 5, 0],  \n",
    "        [0, 0, 6]  \n",
    "    ];  \n",
    "   \n",
    "count = 0;  \n",
    "   \n",
    "#Calculates number of rows and columns present in given matrix  \n",
    "rows = len(a);  \n",
    "cols = len(a[0]);  \n",
    "   \n",
    "#Calculates the size of the array  \n",
    "  \n",
    "size = rows * cols;  \n",
    "   \n",
    "#Count all zero element present in matrix  \n",
    "for i in range(0, rows):  \n",
    "    for j in range(0, cols):  \n",
    "        if(a[i][j] == 0):  \n",
    "            count = count + 1;  \n",
    "   \n",
    "if(count > (size/2)):  \n",
    "    print(\"Given matrix is a sparse matrix\");  \n",
    "else:  \n",
    "    print(\"Given matrix is not a sparse matrix\"); "
   ]
  },
  {
   "cell_type": "code",
   "execution_count": null,
   "metadata": {},
   "outputs": [],
   "source": []
  }
 ],
 "metadata": {
  "kernelspec": {
   "display_name": "Python 3",
   "language": "python",
   "name": "python3"
  },
  "language_info": {
   "codemirror_mode": {
    "name": "ipython",
    "version": 3
   },
   "file_extension": ".py",
   "mimetype": "text/x-python",
   "name": "python",
   "nbconvert_exporter": "python",
   "pygments_lexer": "ipython3",
   "version": "3.7.3"
  }
 },
 "nbformat": 4,
 "nbformat_minor": 2
}
