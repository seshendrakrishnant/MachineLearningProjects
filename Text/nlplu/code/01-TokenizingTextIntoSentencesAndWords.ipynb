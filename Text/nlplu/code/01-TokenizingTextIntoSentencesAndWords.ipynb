{
 "cells": [
  {
   "cell_type": "markdown",
   "metadata": {},
   "source": [
    "## Tokenize text into words and sentences"
   ]
  },
  {
   "cell_type": "code",
   "execution_count": 1,
   "metadata": {},
   "outputs": [
    {
     "name": "stdout",
     "output_type": "stream",
     "text": [
      "1.16.2\n"
     ]
    }
   ],
   "source": [
    "import numpy\n",
    "\n",
    "print(numpy.__version__)\n",
    "\n",
    "%matplotlib inline"
   ]
  },
  {
   "cell_type": "code",
   "execution_count": 2,
   "metadata": {},
   "outputs": [
    {
     "name": "stdout",
     "output_type": "stream",
     "text": [
      "3.4\n"
     ]
    }
   ],
   "source": [
    "import nltk\n",
    "#nltk.download('punkt')\n",
    "print(nltk.__version__)"
   ]
  },
  {
   "cell_type": "markdown",
   "metadata": {},
   "source": [
    "#### Uses NLTK's recommended sentence tokenizer, the PunktSentenceTokenizer\n",
    "#### Uses NLTK's recommended word tokenizer, the TreebankWordTokenizer and the PunktSentencetokenizer"
   ]
  },
  {
   "cell_type": "code",
   "execution_count": 3,
   "metadata": {},
   "outputs": [],
   "source": [
    "from nltk.tokenize import word_tokenize\n",
    "from nltk.tokenize import sent_tokenize"
   ]
  },
  {
   "cell_type": "code",
   "execution_count": 4,
   "metadata": {},
   "outputs": [
    {
     "name": "stdout",
     "output_type": "stream",
     "text": [
      "['Does this tokenizer work?', 'These are two different sentences']\n"
     ]
    }
   ],
   "source": [
    "sent_tokens = sent_tokenize('Does this tokenizer work? These are two different sentences')\n",
    "\n",
    "print(sent_tokens)"
   ]
  },
  {
   "cell_type": "code",
   "execution_count": 5,
   "metadata": {},
   "outputs": [
    {
     "name": "stdout",
     "output_type": "stream",
     "text": [
      "['Does', 'this', 'tokenizer', 'work', '?']\n"
     ]
    }
   ],
   "source": [
    "word_tokens = word_tokenize('Does this tokenizer work?')\n",
    "\n",
    "print(word_tokens)"
   ]
  },
  {
   "cell_type": "markdown",
   "metadata": {},
   "source": [
    "#### Punkt tokenizer\n",
    "\n",
    "https://www.nltk.org/_modules/nltk/tokenize/punkt.html\n",
    "http://www.nltk.org/api/nltk.tokenize.html#module-nltk.tokenize.punkt\n",
    "\n",
    "A sentence tokenizer which uses an unsupervised algorithm to build a model for abbreviation words, collocations, and words that start sentences; and then uses that model to find sentence boundaries. This approach has been shown to work well for many European languages.\n",
    "\n",
    "It must be trained on a large collection of plaintext in the target language before it can be used.\n",
    "\n",
    "The NLTK data package includes a pre-trained Punkt tokenizer for English."
   ]
  },
  {
   "cell_type": "code",
   "execution_count": 6,
   "metadata": {},
   "outputs": [],
   "source": [
    "#nltk.download('punkt')"
   ]
  },
  {
   "cell_type": "code",
   "execution_count": 7,
   "metadata": {},
   "outputs": [
    {
     "name": "stdout",
     "output_type": "stream",
     "text": [
      "['Does this tokenizer work?', 'These are two different sentences']\n"
     ]
    }
   ],
   "source": [
    "sent_tokens = sent_tokenize('Does this tokenizer work? These are two different sentences')\n",
    "\n",
    "print(sent_tokens)"
   ]
  },
  {
   "cell_type": "code",
   "execution_count": 8,
   "metadata": {},
   "outputs": [
    {
     "name": "stdout",
     "output_type": "stream",
     "text": [
      "['Does', 'this', 'tokenizer', 'work', '?']\n"
     ]
    }
   ],
   "source": [
    "word_tokens = word_tokenize('Does this tokenizer work?')\n",
    "\n",
    "print(word_tokens)"
   ]
  },
  {
   "cell_type": "code",
   "execution_count": 9,
   "metadata": {},
   "outputs": [
    {
     "name": "stdout",
     "output_type": "stream",
     "text": [
      "['A', 'bird', 'in', 'hand', 'is', 'worth', 'two', 'in', 'the', 'bush', '.', 'Good', 'things', 'come', 'to', 'those', 'who', 'wait', '.', 'These', 'watches', 'cost', '$', '1500', '!', 'The', 'ball', 'is', 'in', 'your', 'court', '.', 'Mr.', 'Smith', 'Goes', 'to', 'Washington', 'Doogie', 'Howser', 'M.D', '.']\n"
     ]
    }
   ],
   "source": [
    "text = \"A bird in hand is worth two in the bush. \" +\\\n",
    "       \"Good things come to those who wait. \" +\\\n",
    "       \"These watches cost $1500! \" +\\\n",
    "       \"The ball is in your court. \" +\\\n",
    "       \"Mr. Smith Goes to Washington \" +\\\n",
    "       \"Doogie Howser M.D.\"\n",
    "\n",
    "word_tokens = word_tokenize(text, language='english')\n",
    "print(word_tokens)"
   ]
  },
  {
   "cell_type": "code",
   "execution_count": 10,
   "metadata": {},
   "outputs": [
    {
     "data": {
      "text/plain": [
       "41"
      ]
     },
     "execution_count": 10,
     "metadata": {},
     "output_type": "execute_result"
    }
   ],
   "source": [
    "len(word_tokens)"
   ]
  },
  {
   "cell_type": "code",
   "execution_count": 11,
   "metadata": {},
   "outputs": [
    {
     "data": {
      "text/plain": [
       "['hand', 'is', 'worth', 'two', 'in']"
      ]
     },
     "execution_count": 11,
     "metadata": {},
     "output_type": "execute_result"
    }
   ],
   "source": [
    "word_tokens[3:8]"
   ]
  },
  {
   "cell_type": "code",
   "execution_count": 12,
   "metadata": {},
   "outputs": [],
   "source": [
    "from nltk.tokenize.punkt import PunktSentenceTokenizer"
   ]
  },
  {
   "cell_type": "code",
   "execution_count": 13,
   "metadata": {},
   "outputs": [],
   "source": [
    "pst = PunktSentenceTokenizer()"
   ]
  },
  {
   "cell_type": "code",
   "execution_count": 14,
   "metadata": {},
   "outputs": [
    {
     "name": "stdout",
     "output_type": "stream",
     "text": [
      "['A bird in hand is worth two in the bush.', 'Good things come to those who wait.', 'These watches cost $1500!', 'The ball is in your court.', 'Mr.', 'Smith Goes to Washington Doogie Howser M.D.']\n"
     ]
    }
   ],
   "source": [
    "sent_tokens = pst.tokenize(text)\n",
    "\n",
    "print(sent_tokens)"
   ]
  },
  {
   "cell_type": "markdown",
   "metadata": {},
   "source": [
    "# span_tokenize\n",
    "Identify the tokens using integer offsets (start_i, end_i), where s[start_i:end_i] is the corresponding token.\n",
    "\n",
    "# Return type\n",
    "iter(tuple(int, int))\n",
    "\n"
   ]
  },
  {
   "cell_type": "code",
   "execution_count": 15,
   "metadata": {},
   "outputs": [
    {
     "name": "stdout",
     "output_type": "stream",
     "text": [
      "[(0, 40), (41, 76), (77, 102), (103, 129), (130, 133), (134, 177)]\n"
     ]
    }
   ],
   "source": [
    "span_tokens = pst.span_tokenize(text)\n",
    "\n",
    "print(list(span_tokens))"
   ]
  },
  {
   "cell_type": "code",
   "execution_count": 16,
   "metadata": {},
   "outputs": [
    {
     "data": {
      "text/plain": [
       "[['A', 'bird', 'in', 'hand', 'is', 'worth', 'two', 'in', 'the', 'bush', '.'],\n",
       " ['Good', 'things', 'come', 'to', 'those', 'who', 'wait', '.'],\n",
       " ['These', 'watches', 'cost', '$', '1500', '!'],\n",
       " ['The', 'ball', 'is', 'in', 'your', 'court', '.'],\n",
       " ['Mr.'],\n",
       " ['Smith', 'Goes', 'to', 'Washington', 'Doogie', 'Howser', 'M.D', '.']]"
      ]
     },
     "execution_count": 16,
     "metadata": {},
     "output_type": "execute_result"
    }
   ],
   "source": [
    "sentences = pst.sentences_from_tokens(word_tokens)\n",
    "\n",
    "list(sentences)"
   ]
  },
  {
   "cell_type": "code",
   "execution_count": 17,
   "metadata": {},
   "outputs": [],
   "source": [
    "from nltk.tokenize import WhitespaceTokenizer"
   ]
  },
  {
   "cell_type": "code",
   "execution_count": 18,
   "metadata": {},
   "outputs": [],
   "source": [
    "wt = WhitespaceTokenizer()"
   ]
  },
  {
   "cell_type": "code",
   "execution_count": 19,
   "metadata": {},
   "outputs": [
    {
     "name": "stdout",
     "output_type": "stream",
     "text": [
      "['A', 'bird', 'in', 'hand', 'is', 'worth', 'two', 'in', 'the', 'bush.', 'Good', 'things', 'come', 'to', 'those', 'who', 'wait.', 'These', 'watches', 'cost', '$1500!', 'The', 'ball', 'is', 'in', 'your', 'court.', 'Mr.', 'Smith', 'Goes', 'to', 'Washington', 'Doogie', 'Howser', 'M.D.']\n"
     ]
    }
   ],
   "source": [
    "word_tokens = wt.tokenize(text)\n",
    "\n",
    "print(word_tokens)"
   ]
  },
  {
   "cell_type": "markdown",
   "metadata": {},
   "source": [
    "### Reading Local Files"
   ]
  },
  {
   "cell_type": "code",
   "execution_count": 20,
   "metadata": {},
   "outputs": [
    {
     "name": "stdout",
     "output_type": "stream",
     "text": [
      "Marie Curie was a Polish-born physicist and chemist and one of the most famous scientists of her time.\n",
      "Together with her husband Pierre, she was awarded the Nobel Prize in 1903, and she went on to win another in 1911.\n",
      "Marie Sklodowska was born in Warsaw on 7 November 1867, the daughter of a teacher.\n",
      "In 1891, she went to Paris to study physics and mathematics at the Sorbonne where she met Pierre Curie, professor of the School of Physics.\n",
      "They were married in 1895.\n",
      "The Curies worked together investigating radioactivity, building on the work of the German physicist Roentgen and the French physicist Becquerel.\n",
      "In July 1898, the Curies announced the discovery of a new chemical element, polonium.\n",
      "At the end of the year, they announced the discovery of another, radium.\n",
      "The Curies, along with Becquerel, were awarded the Nobel Prize for Physics in 1903.\n",
      "Pierre's life was cut short in 1906 when he was knocked down and killed by a carriage.\n",
      "Marie took over his teaching post, becoming the first woman to teach at the Sorbonne, and devoted herself to continuing the work that they had begun together.\n",
      "She received a second Nobel Prize, for Chemistry, in 1911.\n",
      "The Curie's research was crucial in the development of x-rays in surgery.\n",
      "During World War One Curie helped to equip ambulances with x-ray equipment, which she herself drove to the front lines.\n",
      "The International Red Cross made her head of its radiological service and she held training courses for medical orderlies and doctors in the new techniques.\n",
      "Despite her success, Marie continued to face great opposition from male scientists in France, and she never received significant financial benefits from her work.\n",
      "By the late 1920s her health was beginning to deteriorate.\n",
      "She died on 4 July 1934 from leukaemia, caused by exposure to high-energy radiation from her research.\n",
      "The Curies' eldest daughter Irene was herself a scientist and winner of the Nobel Prize for Chemistry.\n",
      "\n"
     ]
    }
   ],
   "source": [
    "with open('./datasets/biography.txt', 'r') as f:\n",
    "    file_contents = f.read()\n",
    "\n",
    "print(file_contents)"
   ]
  },
  {
   "cell_type": "code",
   "execution_count": 21,
   "metadata": {},
   "outputs": [
    {
     "name": "stdout",
     "output_type": "stream",
     "text": [
      "['Marie', 'Curie', 'was', 'a', 'Polish-born', 'physicist', 'and', 'chemist', 'and', 'one', 'of', 'the', 'most', 'famous', 'scientists', 'of', 'her', 'time', '.', 'Together', 'with', 'her', 'husband', 'Pierre', ',', 'she', 'was', 'awarded', 'the', 'Nobel', 'Prize', 'in', '1903', ',', 'and', 'she', 'went', 'on', 'to', 'win', 'another', 'in', '1911', '.', 'Marie', 'Sklodowska', 'was', 'born', 'in', 'Warsaw', 'on', '7', 'November', '1867', ',', 'the', 'daughter', 'of', 'a', 'teacher', '.', 'In', '1891', ',', 'she', 'went', 'to', 'Paris', 'to', 'study', 'physics', 'and', 'mathematics', 'at', 'the', 'Sorbonne', 'where', 'she', 'met', 'Pierre', 'Curie', ',', 'professor', 'of', 'the', 'School', 'of', 'Physics', '.', 'They', 'were', 'married', 'in', '1895', '.', 'The', 'Curies', 'worked', 'together', 'investigating', 'radioactivity', ',', 'building', 'on', 'the', 'work', 'of', 'the', 'German', 'physicist', 'Roentgen', 'and', 'the', 'French', 'physicist', 'Becquerel', '.', 'In', 'July', '1898', ',', 'the', 'Curies', 'announced', 'the', 'discovery', 'of', 'a', 'new', 'chemical', 'element', ',', 'polonium', '.', 'At', 'the', 'end', 'of', 'the', 'year', ',', 'they', 'announced', 'the', 'discovery', 'of', 'another', ',', 'radium', '.', 'The', 'Curies', ',', 'along', 'with', 'Becquerel', ',', 'were', 'awarded', 'the', 'Nobel', 'Prize', 'for', 'Physics', 'in', '1903', '.', 'Pierre', \"'s\", 'life', 'was', 'cut', 'short', 'in', '1906', 'when', 'he', 'was', 'knocked', 'down', 'and', 'killed', 'by', 'a', 'carriage', '.', 'Marie', 'took', 'over', 'his', 'teaching', 'post', ',', 'becoming', 'the', 'first', 'woman', 'to', 'teach', 'at', 'the', 'Sorbonne', ',', 'and', 'devoted', 'herself', 'to', 'continuing', 'the', 'work', 'that', 'they', 'had', 'begun', 'together', '.', 'She', 'received', 'a', 'second', 'Nobel', 'Prize', ',', 'for', 'Chemistry', ',', 'in', '1911', '.', 'The', 'Curie', \"'s\", 'research', 'was', 'crucial', 'in', 'the', 'development', 'of', 'x-rays', 'in', 'surgery', '.', 'During', 'World', 'War', 'One', 'Curie', 'helped', 'to', 'equip', 'ambulances', 'with', 'x-ray', 'equipment', ',', 'which', 'she', 'herself', 'drove', 'to', 'the', 'front', 'lines', '.', 'The', 'International', 'Red', 'Cross', 'made', 'her', 'head', 'of', 'its', 'radiological', 'service', 'and', 'she', 'held', 'training', 'courses', 'for', 'medical', 'orderlies', 'and', 'doctors', 'in', 'the', 'new', 'techniques', '.', 'Despite', 'her', 'success', ',', 'Marie', 'continued', 'to', 'face', 'great', 'opposition', 'from', 'male', 'scientists', 'in', 'France', ',', 'and', 'she', 'never', 'received', 'significant', 'financial', 'benefits', 'from', 'her', 'work', '.', 'By', 'the', 'late', '1920s', 'her', 'health', 'was', 'beginning', 'to', 'deteriorate', '.', 'She', 'died', 'on', '4', 'July', '1934', 'from', 'leukaemia', ',', 'caused', 'by', 'exposure', 'to', 'high-energy', 'radiation', 'from', 'her', 'research', '.', 'The', 'Curies', \"'\", 'eldest', 'daughter', 'Irene', 'was', 'herself', 'a', 'scientist', 'and', 'winner', 'of', 'the', 'Nobel', 'Prize', 'for', 'Chemistry', '.']\n"
     ]
    }
   ],
   "source": [
    "word_tokens = word_tokenize(file_contents)\n",
    "\n",
    "print(word_tokens)"
   ]
  },
  {
   "cell_type": "markdown",
   "metadata": {},
   "source": [
    "### Frequency distributions"
   ]
  },
  {
   "cell_type": "code",
   "execution_count": 22,
   "metadata": {},
   "outputs": [],
   "source": [
    "from nltk.probability import FreqDist"
   ]
  },
  {
   "cell_type": "code",
   "execution_count": 23,
   "metadata": {},
   "outputs": [
    {
     "name": "stdout",
     "output_type": "stream",
     "text": [
      "<FreqDist with 182 samples and 367 outcomes>\n"
     ]
    }
   ],
   "source": [
    "freq_dist = FreqDist(word_tokens)\n",
    "\n",
    "print(freq_dist)"
   ]
  },
  {
   "cell_type": "code",
   "execution_count": 24,
   "metadata": {},
   "outputs": [
    {
     "data": {
      "text/plain": [
       "[('the', 22),\n",
       " (',', 20),\n",
       " ('.', 19),\n",
       " ('of', 12),\n",
       " ('and', 11),\n",
       " ('in', 11),\n",
       " ('to', 10),\n",
       " ('was', 8),\n",
       " ('her', 7),\n",
       " ('she', 7),\n",
       " ('a', 6),\n",
       " ('The', 5),\n",
       " ('Marie', 4),\n",
       " ('Curie', 4),\n",
       " ('Nobel', 4),\n",
       " ('Prize', 4),\n",
       " ('on', 4),\n",
       " ('Curies', 4),\n",
       " ('for', 4),\n",
       " ('from', 4)]"
      ]
     },
     "execution_count": 24,
     "metadata": {},
     "output_type": "execute_result"
    }
   ],
   "source": [
    "freq_dist.most_common(20)"
   ]
  },
  {
   "cell_type": "markdown",
   "metadata": {},
   "source": [
    "Return the frequency of a given sample. The frequency of a sample is defined as the count of that sample divided by the total number of sample outcomes that have been recorded by this FreqDist. The count of a sample is defined as the number of times that sample outcome was recorded by this FreqDist. Frequencies are always real numbers in the range [0, 1]."
   ]
  },
  {
   "cell_type": "code",
   "execution_count": 25,
   "metadata": {},
   "outputs": [
    {
     "data": {
      "text/plain": [
       "0.05994550408719346"
      ]
     },
     "execution_count": 25,
     "metadata": {},
     "output_type": "execute_result"
    }
   ],
   "source": [
    "freq_dist.freq('the')"
   ]
  },
  {
   "cell_type": "code",
   "execution_count": 26,
   "metadata": {},
   "outputs": [
    {
     "data": {
      "text/plain": [
       "0.0027247956403269754"
      ]
     },
     "execution_count": 26,
     "metadata": {},
     "output_type": "execute_result"
    }
   ],
   "source": [
    "freq_dist.freq('exposure')"
   ]
  },
  {
   "cell_type": "code",
   "execution_count": 27,
   "metadata": {},
   "outputs": [
    {
     "data": {
      "image/png": "[encoded data removed]",
      "text/plain": [
       "<Figure size 864x576 with 1 Axes>"
      ]
     },
     "metadata": {
      "needs_background": "light"
     },
     "output_type": "display_data"
    }
   ],
   "source": [
    "import matplotlib.pyplot as plt\n",
    "\n",
    "fig, ax = plt.subplots(figsize=(12, 8))\n",
    "\n",
    "freq_dist.plot(20, cumulative=False)\n",
    "\n",
    "plt.show()"
   ]
  },
  {
   "cell_type": "code",
   "execution_count": 28,
   "metadata": {},
   "outputs": [
    {
     "name": "stdout",
     "output_type": "stream",
     "text": [
      "['marie', 'curie', 'was', 'a', 'polish-born', 'physicist', 'and', 'chemist', 'and', 'one', 'of', 'the', 'most', 'famous', 'scientists', 'of', 'her', 'time.', 'together', 'with', 'her', 'husband', 'pierre,', 'she', 'was', 'awarded', 'the', 'nobel', 'prize', 'in', '1903,', 'and', 'she', 'went', 'on', 'to', 'win', 'another', 'in', '1911.', 'marie', 'sklodowska', 'was', 'born', 'in', 'warsaw', 'on', '7', 'november', '1867,', 'the', 'daughter', 'of', 'a', 'teacher.', 'in', '1891,', 'she', 'went', 'to', 'paris', 'to', 'study', 'physics', 'and', 'mathematics', 'at', 'the', 'sorbonne', 'where', 'she', 'met', 'pierre', 'curie,', 'professor', 'of', 'the', 'school', 'of', 'physics.', 'they', 'were', 'married', 'in', '1895.', 'the', 'curies', 'worked', 'together', 'investigating', 'radioactivity,', 'building', 'on', 'the', 'work', 'of', 'the', 'german', 'physicist', 'roentgen', 'and', 'the', 'french', 'physicist', 'becquerel.', 'in', 'july', '1898,', 'the', 'curies', 'announced', 'the', 'discovery', 'of', 'a', 'new', 'chemical', 'element,', 'polonium.', 'at', 'the', 'end', 'of', 'the', 'year,', 'they', 'announced', 'the', 'discovery', 'of', 'another,', 'radium.', 'the', 'curies,', 'along', 'with', 'becquerel,', 'were', 'awarded', 'the', 'nobel', 'prize', 'for', 'physics', 'in', '1903.', \"pierre's\", 'life', 'was', 'cut', 'short', 'in', '1906', 'when', 'he', 'was', 'knocked', 'down', 'and', 'killed', 'by', 'a', 'carriage.', 'marie', 'took', 'over', 'his', 'teaching', 'post,', 'becoming', 'the', 'first', 'woman', 'to', 'teach', 'at', 'the', 'sorbonne,', 'and', 'devoted', 'herself', 'to', 'continuing', 'the', 'work', 'that', 'they', 'had', 'begun', 'together.', 'she', 'received', 'a', 'second', 'nobel', 'prize,', 'for', 'chemistry,', 'in', '1911.', 'the', \"curie's\", 'research', 'was', 'crucial', 'in', 'the', 'development', 'of', 'x-rays', 'in', 'surgery.', 'during', 'world', 'war', 'one', 'curie', 'helped', 'to', 'equip', 'ambulances', 'with', 'x-ray', 'equipment,', 'which', 'she', 'herself', 'drove', 'to', 'the', 'front', 'lines.', 'the', 'international', 'red', 'cross', 'made', 'her', 'head', 'of', 'its', 'radiological', 'service', 'and', 'she', 'held', 'training', 'courses', 'for', 'medical', 'orderlies', 'and', 'doctors', 'in', 'the', 'new', 'techniques.', 'despite', 'her', 'success,', 'marie', 'continued', 'to', 'face', 'great', 'opposition', 'from', 'male', 'scientists', 'in', 'france,', 'and', 'she', 'never', 'received', 'significant', 'financial', 'benefits', 'from', 'her', 'work.', 'by', 'the', 'late', '1920s', 'her', 'health', 'was', 'beginning', 'to', 'deteriorate.', 'she', 'died', 'on', '4', 'july', '1934', 'from', 'leukaemia,', 'caused', 'by', 'exposure', 'to', 'high-energy', 'radiation', 'from', 'her', 'research.', 'the', \"curies'\", 'eldest', 'daughter', 'irene', 'was', 'herself', 'a', 'scientist', 'and', 'winner', 'of', 'the', 'nobel', 'prize', 'for', 'chemistry.']\n"
     ]
    }
   ],
   "source": [
    "file_contents = file_contents.lower()\n",
    "\n",
    "word_tokens = wt.tokenize(file_contents)\n",
    "\n",
    "print(word_tokens)"
   ]
  },
  {
   "cell_type": "code",
   "execution_count": 29,
   "metadata": {},
   "outputs": [
    {
     "name": "stderr",
     "output_type": "stream",
     "text": [
      "[nltk_data] Downloading package stopwords to\n",
      "[nltk_data]     /Users/vipulgaur/nltk_data...\n",
      "[nltk_data]   Unzipping corpora/stopwords.zip.\n"
     ]
    },
    {
     "data": {
      "text/plain": [
       "True"
      ]
     },
     "execution_count": 29,
     "metadata": {},
     "output_type": "execute_result"
    }
   ],
   "source": [
    "nltk.download('stopwords')"
   ]
  },
  {
   "cell_type": "code",
   "execution_count": 30,
   "metadata": {},
   "outputs": [
    {
     "name": "stdout",
     "output_type": "stream",
     "text": [
      "{'hadn', 'to', 'them', 'is', 'once', 'doesn', 'below', 'with', 'where', 'been', 'wasn', 'between', \"you're\", 'so', 'yourself', 'himself', 'isn', \"it's\", 'ma', 'because', \"couldn't\", \"you'll\", 'into', 'mustn', 'do', 'me', 'don', 'when', 'm', 'further', 'having', 'after', 'you', \"should've\", 'they', 'mightn', \"needn't\", 'be', 'your', 'this', 'again', 's', \"shan't\", 'have', 'needn', 'ours', 'most', 'whom', 'now', \"shouldn't\", 'that', \"wouldn't\", 'through', 'in', 'such', 'other', 'some', \"isn't\", 've', 'did', 'themselves', 'each', 'were', 'had', 'more', \"hasn't\", \"doesn't\", 'not', 'won', \"don't\", 'over', 'didn', \"hadn't\", 'does', 'for', 'hers', \"wasn't\", 'The', 'at', 'down', \"aren't\", \"mustn't\", 'which', 'should', 'aren', 'couldn', \"didn't\", 'can', 'weren', '.', 'why', 'haven', 'll', 'herself', 'will', 'just', 'am', \"won't\", 'being', 'shouldn', 'myself', \"mightn't\", 'our', 'doing', 'd', 'ain', 'during', 'of', 'on', 'shan', 'these', 'my', 'an', 'nor', 'from', 'all', \"weren't\", 'the', 'y', 'i', 'has', 'there', 'both', 'him', 'her', 'own', 'than', 'who', 'up', 'but', 're', 'a', 'she', 'ourselves', 'those', 'and', 'its', 'then', \"you've\", 'theirs', 'he', 'until', 'hasn', ',', 'we', 'are', 'yourselves', 'was', \"haven't\", 'under', 'wouldn', 'their', 'as', 'here', 'out', 'before', 'about', 'his', 'it', 'same', 'yours', 'above', \"you'd\", 'what', 'against', 'if', 'very', 'while', 'no', 'how', 'few', 'too', 't', 'o', 'any', 'by', 'off', 'or', 'only', 'itself', \"that'll\", \"she's\"}\n"
     ]
    }
   ],
   "source": [
    "from nltk.corpus import stopwords\n",
    "\n",
    "stop_words = set(stopwords.words('english'))\n",
    "stop_words.update(['.', ',', 'The'])\n",
    "\n",
    "print(stop_words)"
   ]
  },
  {
   "cell_type": "code",
   "execution_count": 31,
   "metadata": {},
   "outputs": [
    {
     "name": "stdout",
     "output_type": "stream",
     "text": [
      "['marie', 'curie', 'polish-born', 'physicist', 'chemist', 'one', 'famous', 'scientists', 'time.', 'together', 'husband', 'pierre,', 'awarded', 'nobel', 'prize', '1903,', 'went', 'win', 'another', '1911.', 'marie', 'sklodowska', 'born', 'warsaw', '7', 'november', '1867,', 'daughter', 'teacher.', '1891,', 'went', 'paris', 'study', 'physics', 'mathematics', 'sorbonne', 'met', 'pierre', 'curie,', 'professor', 'school', 'physics.', 'married', '1895.', 'curies', 'worked', 'together', 'investigating', 'radioactivity,', 'building', 'work', 'german', 'physicist', 'roentgen', 'french', 'physicist', 'becquerel.', 'july', '1898,', 'curies', 'announced', 'discovery', 'new', 'chemical', 'element,', 'polonium.', 'end', 'year,', 'announced', 'discovery', 'another,', 'radium.', 'curies,', 'along', 'becquerel,', 'awarded', 'nobel', 'prize', 'physics', '1903.', \"pierre's\", 'life', 'cut', 'short', '1906', 'knocked', 'killed', 'carriage.', 'marie', 'took', 'teaching', 'post,', 'becoming', 'first', 'woman', 'teach', 'sorbonne,', 'devoted', 'continuing', 'work', 'begun', 'together.', 'received', 'second', 'nobel', 'prize,', 'chemistry,', '1911.', \"curie's\", 'research', 'crucial', 'development', 'x-rays', 'surgery.', 'world', 'war', 'one', 'curie', 'helped', 'equip', 'ambulances', 'x-ray', 'equipment,', 'drove', 'front', 'lines.', 'international', 'red', 'cross', 'made', 'head', 'radiological', 'service', 'held', 'training', 'courses', 'medical', 'orderlies', 'doctors', 'new', 'techniques.', 'despite', 'success,', 'marie', 'continued', 'face', 'great', 'opposition', 'male', 'scientists', 'france,', 'never', 'received', 'significant', 'financial', 'benefits', 'work.', 'late', '1920s', 'health', 'beginning', 'deteriorate.', 'died', '4', 'july', '1934', 'leukaemia,', 'caused', 'exposure', 'high-energy', 'radiation', 'research.', \"curies'\", 'eldest', 'daughter', 'irene', 'scientist', 'winner', 'nobel', 'prize', 'chemistry.']\n"
     ]
    }
   ],
   "source": [
    "filtered_words = []\n",
    "\n",
    "for w in word_tokens:\n",
    "    if w not in stop_words:\n",
    "        filtered_words.append(w)\n",
    "        \n",
    "print(filtered_words)"
   ]
  },
  {
   "cell_type": "code",
   "execution_count": 32,
   "metadata": {},
   "outputs": [],
   "source": [
    "freq_dist = FreqDist(filtered_words)"
   ]
  },
  {
   "cell_type": "code",
   "execution_count": 33,
   "metadata": {},
   "outputs": [
    {
     "data": {
      "text/plain": [
       "[('marie', 4),\n",
       " ('nobel', 4),\n",
       " ('physicist', 3),\n",
       " ('prize', 3),\n",
       " ('curie', 2),\n",
       " ('one', 2),\n",
       " ('scientists', 2),\n",
       " ('together', 2),\n",
       " ('awarded', 2),\n",
       " ('went', 2),\n",
       " ('1911.', 2),\n",
       " ('daughter', 2),\n",
       " ('physics', 2),\n",
       " ('curies', 2),\n",
       " ('work', 2),\n",
       " ('july', 2),\n",
       " ('announced', 2),\n",
       " ('discovery', 2),\n",
       " ('new', 2),\n",
       " ('received', 2)]"
      ]
     },
     "execution_count": 33,
     "metadata": {},
     "output_type": "execute_result"
    }
   ],
   "source": [
    "freq_dist.most_common(20)"
   ]
  },
  {
   "cell_type": "code",
   "execution_count": 34,
   "metadata": {},
   "outputs": [
    {
     "data": {
      "image/png": "[encoded data removed]",
      "text/plain": [
       "<Figure size 864x576 with 1 Axes>"
      ]
     },
     "metadata": {
      "needs_background": "light"
     },
     "output_type": "display_data"
    }
   ],
   "source": [
    "fig, ax = plt.subplots(figsize=(12, 8))\n",
    "\n",
    "freq_dist.plot(20, cumulative=False)\n",
    "\n",
    "plt.show()"
   ]
  },
  {
   "cell_type": "code",
   "execution_count": null,
   "metadata": {},
   "outputs": [],
   "source": []
  },
  {
   "cell_type": "code",
   "execution_count": null,
   "metadata": {},
   "outputs": [],
   "source": []
  },
  {
   "cell_type": "code",
   "execution_count": null,
   "metadata": {},
   "outputs": [],
   "source": []
  }
 ],
 "metadata": {
  "kernelspec": {
   "display_name": "Python 3",
   "language": "python",
   "name": "python3"
  },
  "language_info": {
   "codemirror_mode": {
    "name": "ipython",
    "version": 3
   },
   "file_extension": ".py",
   "mimetype": "text/x-python",
   "name": "python",
   "nbconvert_exporter": "python",
   "pygments_lexer": "ipython3",
   "version": "3.7.3"
  }
 },
 "nbformat": 4,
 "nbformat_minor": 2
}
