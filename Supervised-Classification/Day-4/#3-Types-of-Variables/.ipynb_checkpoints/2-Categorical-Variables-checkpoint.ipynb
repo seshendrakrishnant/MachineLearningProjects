{
 "cells": [
  {
   "cell_type": "markdown",
   "metadata": {},
   "source": [
    "## What is a Variable?\n",
    "\n",
    "A variable is any characteristic, number, or quantity that can be measured or counted. They are called 'variables' because the value they take may vary, and it usually does. The following are examples of variables:\n",
    "\n",
    "- Age (21, 35, 62, ...)\n",
    "- Gender (male, female)\n",
    "- Income (GBP 20000, GBP 35000, GBP 45000, ...)\n",
    "- House price (GBP 350000, GBP 570000, ...)\n",
    "- Country of birth (China, Russia, Costa Rica, ...)\n",
    "- Eye colour (brown, green, blue, ...)\n",
    "- Vehicle make (Ford, Volkswagen, ...)\n",
    "\n",
    "Most variables in a data set can be classified into one of two major types:\n",
    "\n",
    "- **Numerical variables** \n",
    "- **Categorical variables**\n",
    "\n",
    "===================================================================================\n",
    "\n",
    "\n",
    "## Categorical Variables\n",
    "\n",
    "The values of a categorical variable are selected from a group of **categories**, also called **labels**. Examples are gender (male or female) and marital status (never married, married, divorced or widowed). Other examples of categorical variables include:\n",
    "\n",
    "- Intended use of loan (debt-consolidation, car purchase, wedding expenses, ...)\n",
    "- Mobile network provider (Vodafone, Orange, ...)\n",
    "- Postcode\n",
    "\n",
    "Categorical variables can be further categorised into:\n",
    "\n",
    "- **Ordinal Variables**\n",
    "- **Nominal variables**\n",
    "\n",
    "### Ordinal Variable\n",
    "\n",
    "Ordinal variables are categorical variable in which the categories can be meaningfully ordered. For example:\n",
    "\n",
    "- Student's grade in an exam (A, B, C or Fail).\n",
    "- Days of the week, where Monday = 1 and Sunday = 7.\n",
    "- Educational level, with the categories Elementary school, High school, College graduate and PhD ranked from 1 to 4. \n",
    "\n",
    "### Nominal Variable\n",
    "\n",
    "For nominal variables, there isn't an intrinsic order in the labels. For example, country of birth, with values Argentina, England, Germany, etc., is nominal. Other examples of nominal variables include:\n",
    "\n",
    "- Car colour (blue, grey, silver, ...)\n",
    "- Vehicle make (Citroen, Peugeot, ...)\n",
    "- City (Manchester, London, Chester, ...)\n",
    "\n",
    "There is nothing that indicates an intrinsic order of the labels, and in principle, they are all equal.\n",
    "\n",
    "**To be considered:**\n",
    "\n",
    "Sometimes categorical variables are coded as numbers when the data are recorded (e.g. gender may be coded as 0 for males and 1 for females). The variable is still categorical, despite the use of numbers.\n",
    "\n",
    "In a similar way, individuals in a survey may be coded with a number that uniquely identifies them (for example to avoid storing personal information for confidentiality). This number is really a label, and the variable then categorical. The number has no meaning other than making it possible to uniquely identify the observation (in this case the interviewed subject).\n",
    "\n",
    "Ideally, when we work with a dataset in a business scenario, the data will come with a dictionary that indicates if the numbers in the variables are to be considered as categories or if they are numerical. And if the numbers are categories, the dictionary would explain what each value in the variable represents.\n",
    "\n",
    "=============================================================================\n",
    "\n",
    "## In this demo: Peer to peer lending (Finance)\n",
    "\n",
    "In this demo, we will use data from the peer-o-peer finance company **Lending Club** to inspect nominal categorical variables"
   ]
  },
  {
   "cell_type": "code",
   "execution_count": 3,
   "metadata": {},
   "outputs": [],
   "source": [
    "import pandas as pd\n",
    "\n",
    "import matplotlib.pyplot as plt"
   ]
  },
  {
   "cell_type": "code",
   "execution_count": 4,
   "metadata": {},
   "outputs": [
    {
     "data": {
      "text/html": [
       "<div>\n",
       "<style scoped>\n",
       "    .dataframe tbody tr th:only-of-type {\n",
       "        vertical-align: middle;\n",
       "    }\n",
       "\n",
       "    .dataframe tbody tr th {\n",
       "        vertical-align: top;\n",
       "    }\n",
       "\n",
       "    .dataframe thead th {\n",
       "        text-align: right;\n",
       "    }\n",
       "</style>\n",
       "<table border=\"1\" class=\"dataframe\">\n",
       "  <thead>\n",
       "    <tr style=\"text-align: right;\">\n",
       "      <th></th>\n",
       "      <th>id</th>\n",
       "      <th>home_ownership</th>\n",
       "      <th>loan_status</th>\n",
       "      <th>purpose</th>\n",
       "    </tr>\n",
       "  </thead>\n",
       "  <tbody>\n",
       "    <tr>\n",
       "      <th>70642</th>\n",
       "      <td>NaN</td>\n",
       "      <td>MORTGAGE</td>\n",
       "      <td>Current</td>\n",
       "      <td>other</td>\n",
       "    </tr>\n",
       "    <tr>\n",
       "      <th>490788</th>\n",
       "      <td>NaN</td>\n",
       "      <td>MORTGAGE</td>\n",
       "      <td>Current</td>\n",
       "      <td>debt_consolidation</td>\n",
       "    </tr>\n",
       "    <tr>\n",
       "      <th>2081591</th>\n",
       "      <td>NaN</td>\n",
       "      <td>MORTGAGE</td>\n",
       "      <td>Charged Off</td>\n",
       "      <td>debt_consolidation</td>\n",
       "    </tr>\n",
       "    <tr>\n",
       "      <th>900431</th>\n",
       "      <td>NaN</td>\n",
       "      <td>MORTGAGE</td>\n",
       "      <td>Fully Paid</td>\n",
       "      <td>home_improvement</td>\n",
       "    </tr>\n",
       "    <tr>\n",
       "      <th>781582</th>\n",
       "      <td>NaN</td>\n",
       "      <td>MORTGAGE</td>\n",
       "      <td>Fully Paid</td>\n",
       "      <td>debt_consolidation</td>\n",
       "    </tr>\n",
       "  </tbody>\n",
       "</table>\n",
       "</div>"
      ],
      "text/plain": [
       "         id home_ownership  loan_status             purpose\n",
       "70642   NaN       MORTGAGE      Current               other\n",
       "490788  NaN       MORTGAGE      Current  debt_consolidation\n",
       "2081591 NaN       MORTGAGE  Charged Off  debt_consolidation\n",
       "900431  NaN       MORTGAGE   Fully Paid    home_improvement\n",
       "781582  NaN       MORTGAGE   Fully Paid  debt_consolidation"
      ]
     },
     "execution_count": 4,
     "metadata": {},
     "output_type": "execute_result"
    }
   ],
   "source": [
    "# let's load the dataset with just a few columns and a few rows,\n",
    "# to speed things up\n",
    "\n",
    "# Variable definitions:\n",
    "#-------------------------\n",
    "# purpose: intended use of the loan\n",
    "# loan_status: loan statues, defaulted, paid, etc\n",
    "# home_ownership: whether the borrower owns or rents their property\n",
    "\n",
    "use_cols = ['id', 'purpose', 'loan_status', 'home_ownership']\n",
    "\n",
    "# this dataset is very big. To speed things up for the demo\n",
    "# I will randomly select 10,000 rows when I load the dataset\n",
    "# so I upload just 10,000 rows from the full dataset\n",
    "\n",
    "data = pd.read_csv('E:/datasets/lending-club-loan-data/loan.csv', usecols=use_cols).sample(\n",
    "    10000, random_state=44)  # set a seed for reproducibility\n",
    "\n",
    "data.head()"
   ]
  },
  {
   "cell_type": "code",
   "execution_count": 5,
   "metadata": {},
   "outputs": [
    {
     "data": {
      "text/plain": [
       "array(['MORTGAGE', 'RENT', 'OWN', 'ANY', 'OTHER'], dtype=object)"
      ]
     },
     "execution_count": 5,
     "metadata": {},
     "output_type": "execute_result"
    }
   ],
   "source": [
    "# let's inspect the variable home ownership,\n",
    "# which indicates whether the borrowers own their home\n",
    "# or if they are renting, among other things.\n",
    "\n",
    "data.home_ownership.unique()"
   ]
  },
  {
   "cell_type": "code",
   "execution_count": 6,
   "metadata": {},
   "outputs": [
    {
     "data": {
      "text/plain": [
       "Text(0, 0.5, 'Number of customers')"
      ]
     },
     "execution_count": 6,
     "metadata": {},
     "output_type": "execute_result"
    },
    {
     "data": {
      "image/png": "[encoded data removed]",
      "text/plain": [
       "<Figure size 432x288 with 1 Axes>"
      ]
     },
     "metadata": {
      "needs_background": "light"
     },
     "output_type": "display_data"
    }
   ],
   "source": [
    "# let's make a bar plot, with the number of loans\n",
    "# for each category of home ownership\n",
    "\n",
    "# the code below counts the number of observations (borrowers)\n",
    "# within each category and then makes a bar plot\n",
    "\n",
    "fig = data['home_ownership'].value_counts().plot.bar()\n",
    "fig.set_title('Home Ownership')\n",
    "fig.set_ylabel('Number of customers')"
   ]
  },
  {
   "cell_type": "markdown",
   "metadata": {},
   "source": [
    "The majority of the borrowers either own their house on a mortgage or rent their property. A few borrowers own their home completely. The category 'Other' seems to be empty. To be completely sure, we could print the numbers as below:"
   ]
  },
  {
   "cell_type": "code",
   "execution_count": 7,
   "metadata": {},
   "outputs": [
    {
     "data": {
      "text/plain": [
       "MORTGAGE    4937\n",
       "RENT        3980\n",
       "OWN         1075\n",
       "ANY            6\n",
       "OTHER          2\n",
       "Name: home_ownership, dtype: int64"
      ]
     },
     "execution_count": 7,
     "metadata": {},
     "output_type": "execute_result"
    }
   ],
   "source": [
    "data['home_ownership'].value_counts()"
   ]
  },
  {
   "cell_type": "markdown",
   "metadata": {},
   "source": [
    "There are 2 borrowers that have other arrangements for their property. For example, they could live with their parents, or live in a hotel."
   ]
  },
  {
   "cell_type": "code",
   "execution_count": 8,
   "metadata": {},
   "outputs": [
    {
     "data": {
      "text/plain": [
       "array(['other', 'debt_consolidation', 'home_improvement', 'credit_card',\n",
       "       'moving', 'medical', 'car', 'major_purchase', 'house',\n",
       "       'small_business', 'vacation', 'renewable_energy', 'wedding'],\n",
       "      dtype=object)"
      ]
     },
     "execution_count": 8,
     "metadata": {},
     "output_type": "execute_result"
    }
   ],
   "source": [
    "# the \"purpose\" variable is another categorical variable\n",
    "# that indicates how the borrowers intend to use the\n",
    "# money they are borrowing, for example to improve their\n",
    "# house, or to cancel previous debt.\n",
    "\n",
    "data.purpose.unique()"
   ]
  },
  {
   "cell_type": "markdown",
   "metadata": {},
   "source": [
    "Debt consolidation means that the borrower would like a loan to cancel previous debts, car means that the borrower is borrowing the money to buy a car, and so on. It gives an idea of the intended use of the loan."
   ]
  },
  {
   "cell_type": "code",
   "execution_count": 9,
   "metadata": {},
   "outputs": [
    {
     "data": {
      "text/plain": [
       "Text(0, 0.5, 'Number of customers')"
      ]
     },
     "execution_count": 9,
     "metadata": {},
     "output_type": "execute_result"
    },
    {
     "data": {
      "image/png": "[encoded data removed]",
      "text/plain": [
       "<Figure size 432x288 with 1 Axes>"
      ]
     },
     "metadata": {
      "needs_background": "light"
     },
     "output_type": "display_data"
    }
   ],
   "source": [
    "# let's make a bar plot with the number of borrowers\n",
    "# within each category\n",
    "\n",
    "# the code below counts the number of observations (borrowers)\n",
    "# within each category and then makes a plot\n",
    "\n",
    "fig = data['purpose'].value_counts().plot.bar()\n",
    "fig.set_title('Loan Purpose')\n",
    "fig.set_ylabel('Number of customers')"
   ]
  },
  {
   "cell_type": "markdown",
   "metadata": {},
   "source": [
    "The majority of the borrowers intend to use the loan for 'debt consolidation' or to repay their 'credit cards'. This is quite common. What the borrowers intend to do is, to consolidate all the debt that they have on different financial items, in one single debt, the new loan that they will take from Lending Club in this case. This loan will usually provide an advantage to the borrower, either in the form of lower interest rates than a credit card, for example, or longer repayment period."
   ]
  },
  {
   "cell_type": "code",
   "execution_count": 10,
   "metadata": {},
   "outputs": [
    {
     "data": {
      "text/plain": [
       "array(['Current', 'Charged Off', 'Fully Paid',\n",
       "       'Does not meet the credit policy. Status:Fully Paid',\n",
       "       'Late (16-30 days)', 'Late (31-120 days)', 'In Grace Period',\n",
       "       'Does not meet the credit policy. Status:Charged Off'],\n",
       "      dtype=object)"
      ]
     },
     "execution_count": 10,
     "metadata": {},
     "output_type": "execute_result"
    }
   ],
   "source": [
    "# let's look at one additional categorical variable,\n",
    "# \"loan status\", which represents the current status\n",
    "# of the loan. This is whether the loan is still active\n",
    "# and being repaid, or if it was defaulted,\n",
    "# or if it was fully paid among other things.\n",
    "\n",
    "data.loan_status.unique()"
   ]
  },
  {
   "cell_type": "code",
   "execution_count": 11,
   "metadata": {},
   "outputs": [
    {
     "data": {
      "text/plain": [
       "Text(0, 0.5, 'Number of customers')"
      ]
     },
     "execution_count": 11,
     "metadata": {},
     "output_type": "execute_result"
    },
    {
     "data": {
      "image/png": "[encoded data removed]",
      "text/plain": [
       "<Figure size 432x288 with 1 Axes>"
      ]
     },
     "metadata": {
      "needs_background": "light"
     },
     "output_type": "display_data"
    }
   ],
   "source": [
    "# let's make a bar plot with the number of borrowers\n",
    "# within each category\n",
    "\n",
    "fig = data['loan_status'].value_counts().plot.bar()\n",
    "fig.set_title('Status of the Loan')\n",
    "fig.set_ylabel('Number of customers')"
   ]
  },
  {
   "cell_type": "markdown",
   "metadata": {},
   "source": [
    "We can see that the majority of the loans are active (current) and a big number have been 'Fully paid'. The remaining labels have the following meaning:\n",
    "- Late (16-30 days): customer missed a payment\n",
    "- Late (31-120 days): customer is behind in payments for more than a month\n",
    "- Charged off: the company declared that they will not be able to recover the money for that loan ( money is typically lost)\n",
    "- Issued: loan was granted but money not yet sent to borrower\n",
    "- In Grace Period: window of time agreed with customer to wait for payment, usually, when customer is behind in their payments"
   ]
  },
  {
   "cell_type": "code",
   "execution_count": 12,
   "metadata": {},
   "outputs": [
    {
     "data": {
      "text/plain": [
       "70642     NaN\n",
       "490788    NaN\n",
       "2081591   NaN\n",
       "900431    NaN\n",
       "781582    NaN\n",
       "Name: id, dtype: float64"
      ]
     },
     "execution_count": 12,
     "metadata": {},
     "output_type": "execute_result"
    }
   ],
   "source": [
    "# finally, let's look at a variable that is numerical,\n",
    "# but its numbers have no real meaning\n",
    "# their values are more \"labels\" than real numbers\n",
    "\n",
    "data['id'].head()"
   ]
  },
  {
   "cell_type": "markdown",
   "metadata": {},
   "source": [
    "Each id represents one customer. This number is assigned to identify the customer if needed, while \n",
    "maintaining confidentiality and ensuring data protection."
   ]
  },
  {
   "cell_type": "code",
   "execution_count": 11,
   "metadata": {},
   "outputs": [
    {
     "data": {
      "text/plain": [
       "10000"
      ]
     },
     "execution_count": 11,
     "metadata": {},
     "output_type": "execute_result"
    }
   ],
   "source": [
    "# The variable has as many different id values as customers,\n",
    "# in this case 10000, \n",
    "\n",
    "# remember that because we loaded only \n",
    "# 10000 rows/customers from the original dataset.\n",
    "\n",
    "len(data['id'].unique())"
   ]
  }
 ],
 "metadata": {
  "kernelspec": {
   "display_name": "Python 3",
   "language": "python",
   "name": "python3"
  },
  "language_info": {
   "codemirror_mode": {
    "name": "ipython",
    "version": 3
   },
   "file_extension": ".py",
   "mimetype": "text/x-python",
   "name": "python",
   "nbconvert_exporter": "python",
   "pygments_lexer": "ipython3",
   "version": "3.7.3"
  },
  "toc": {
   "base_numbering": 1,
   "nav_menu": {},
   "number_sections": true,
   "sideBar": true,
   "skip_h1_title": false,
   "title_cell": "Table of Contents",
   "title_sidebar": "Contents",
   "toc_cell": false,
   "toc_position": {},
   "toc_section_display": "block",
   "toc_window_display": true
  }
 },
 "nbformat": 4,
 "nbformat_minor": 1
}
