{
 "cells": [
  {
   "cell_type": "markdown",
   "metadata": {},
   "source": [
    "# Building a recommendation system from scratch\n",
    "\n",
    "* The rapid growth of data collection has led to a new era of information. \n",
    "\n",
    "\n",
    "* Data is being used to create more efficient systems and this is where Recommendation Systems come into play. \n",
    "\n",
    "\n",
    "* Recommendation Systems are a type of information filtering systems as they improve the quality of search results and provides items that are more relevant to the search item or are realted to the search history of the user.\n",
    "\n",
    "\n",
    "* They are used to predict the rating or preference that a user would give to an item. \n",
    "\n",
    "\n",
    "* Almost every major tech company has applied them in some form or the other: \n",
    "\n",
    "    * Amazon uses it to suggest products to customers\n",
    "    \n",
    "    * YouTube uses it to decide which video to play next on autoplay\n",
    "    \n",
    "    * Facebook uses it to recommend pages to like and people to follow. \n",
    "\n",
    "\n",
    "* Moreover, companies like Netflix and Spotify depend highly on the effectiveness of their recommendation engines for their business and sucees.\n",
    "\n"
   ]
  },
  {
   "cell_type": "markdown",
   "metadata": {},
   "source": [
    "<img src='../img/reco1.JPG'>\n",
    "\n",
    "\n",
    "In this kernel we'll be building a baseline Movie Recommendation System using TMDB 5000 Movie Dataset present in the github repo/Day-8/datasets folder. "
   ]
  },
  {
   "cell_type": "markdown",
   "metadata": {},
   "source": [
    "# There are basically three types of recommender systems:-\n",
    "\n",
    "## Demographic Filtering\n",
    "* They offer generalized recommendations to every user, based on movie popularity and/or genre. \n",
    "\n",
    "\n",
    "* The System recommends the same movies to users with similar demographic features. \n",
    "\n",
    "\n",
    "* Since each user is different , this approach is considered to be too simple. \n",
    "\n",
    "\n",
    "* The basic idea behind this system is that movies that are more popular and critically acclaimed will have a higher probability of being liked by the average audience.\n",
    "\n",
    "\n",
    "## Content Based Filtering\n",
    "\n",
    "* They suggest similar items based on a particular item. \n",
    "\n",
    "\n",
    "* This system uses item metadata, such as genre, director, description, actors, etc. for movies, to make these recommendations. \n",
    "\n",
    "\n",
    "* The general idea behind these recommender systems is that if a person liked a particular item, he or she will also like an item that is similar to it.\n",
    "\n",
    "\n",
    "# Collaborative Filtering\n",
    "\n",
    "\n",
    "* This system matches persons with similar interests and provides recommendations based on this matching. \n",
    "\n",
    "\n",
    "* Collaborative filters do not require item metadata like its content-based counterparts.\n",
    "\n",
    "\n",
    "\n",
    "Let's explore each of these now.\n",
    "\n"
   ]
  },
  {
   "cell_type": "code",
   "execution_count": null,
   "metadata": {},
   "outputs": [],
   "source": [
    "import pandas as pd\n",
    "import numpy as np\n",
    "df1 = pd.read_csv('../datasets/tmdb_5000_credits.csv')\n",
    "df2 = pd.read_csv('../datasets/tmdb_5000_movies.csv')"
   ]
  },
  {
   "cell_type": "code",
   "execution_count": null,
   "metadata": {},
   "outputs": [],
   "source": [
    "df1.info()"
   ]
  },
  {
   "cell_type": "markdown",
   "metadata": {},
   "source": [
    "# The first dataset contains the following features -\n",
    "\n",
    "* movie_id - A unique identifier for each movie.\n",
    "    \n",
    "    \n",
    "* cast - The name of lead and supporting actors.\n",
    "    \n",
    "    \n",
    "* crew - The name of Director, Editor, Composer, Writer etc.\n",
    "\n",
    "\n",
    "# The second dataset has the following features - \n",
    "\n",
    "* budget - The budget in which the movie was made.\n",
    "\n",
    "\n",
    "* genre - The genre of the movie, Action, Comedy ,Thriller etc.\n",
    "\n",
    "\n",
    "* homepage - A link to the homepage of the movie.\n",
    "\n",
    "\n",
    "* id - This is infact the movie_id as in the first dataset.\n",
    "\n",
    "\n",
    "* keywords - The keywords or tags related to the movie.\n",
    "\n",
    "\n",
    "* original_language - The language in which the movie was made.\n",
    "\n",
    "\n",
    "* original_title - The title of the movie before translation or adaptation.\n",
    "\n",
    "\n",
    "* overview - A brief description of the movie.\n",
    "\n",
    "\n",
    "* popularity - A numeric quantity specifying the movie popularity.\n",
    "\n",
    "\n",
    "* production_companies - The production house of the movie.\n",
    "\n",
    "\n",
    "* production_countries - The country in which it was produced.\n",
    "\n",
    "\n",
    "* release_date - The date on which it was released.\n",
    "\n",
    "\n",
    "* revenue - The worldwide revenue generated by the movie.\n",
    "\n",
    "\n",
    "* runtime - The running time of the movie in minutes.\n",
    "\n",
    "\n",
    "* status - \"Released\" or \"Rumored\".\n",
    "\n",
    "\n",
    "* tagline - Movie's tagline.\n",
    "\n",
    "\n",
    "* title - Title of the movie.\n",
    "\n",
    "\n",
    "* vote_average - average ratings the movie recieved.\n",
    "\n",
    "\n",
    "* vote_count - the count of votes recieved.\n",
    "\n",
    "\n",
    "# Let's join the two dataset on the 'id' column"
   ]
  },
  {
   "cell_type": "code",
   "execution_count": null,
   "metadata": {},
   "outputs": [],
   "source": [
    "df2.info()"
   ]
  },
  {
   "cell_type": "code",
   "execution_count": null,
   "metadata": {},
   "outputs": [],
   "source": [
    "df2.drop(columns=['title'],inplace=True)"
   ]
  },
  {
   "cell_type": "code",
   "execution_count": null,
   "metadata": {},
   "outputs": [],
   "source": [
    "df2.info()"
   ]
  },
  {
   "cell_type": "code",
   "execution_count": null,
   "metadata": {},
   "outputs": [],
   "source": [
    "df1.columns=['id','title','cast','crew']\n",
    "df2 = df2.merge(df1,on='id')"
   ]
  },
  {
   "cell_type": "code",
   "execution_count": null,
   "metadata": {},
   "outputs": [],
   "source": [
    "df2.head()"
   ]
  },
  {
   "cell_type": "markdown",
   "metadata": {},
   "source": [
    "# Demographic Filtering -\n",
    "\n",
    "#### Before getting started with this -\n",
    "\n",
    "* ***We need a metric to score or rate movie***\n",
    "\n",
    "\n",
    "* ***Calculate the score for every movie***\n",
    "\n",
    "\n",
    "* ***Sort the scores and recommend the best rated movie to the users***\n",
    "\n",
    "\n",
    "* ***We can use the average ratings of the movie as the score but using this won't be fair enough since a movie with 8.9 average rating and only 3 votes cannot be considered better than the movie with 7.8 as as average rating but 40 votes*** \n",
    "\n",
    "\n",
    "* ***We'll be using IMDB's weighted rating (wr) which is given as -***\n",
    "\n",
    "<img src='../img/reco2.JPG'>\n",
    "\n",
    "\n",
    "where,\n",
    "\n",
    "\n",
    "* v is the number of votes for the movie;\n",
    "* m is the minimum votes required to be listed in the chart;\n",
    "* R is the average rating of the movie; And\n",
    "* C is the mean vote across the whole report\n",
    "\n",
    "\n",
    "* ***We already have v(vote_count) and R (vote_average) and C can be calculated as follows***"
   ]
  },
  {
   "cell_type": "code",
   "execution_count": null,
   "metadata": {},
   "outputs": [],
   "source": [
    "C= df2['vote_average'].mean()\n",
    "C"
   ]
  },
  {
   "cell_type": "markdown",
   "metadata": {},
   "source": [
    "#### So, the mean rating for all the movies is approx 6 on a scale of 10.\n",
    "\n",
    "#### The next step is to determine an appropriate value for m, the minimum votes required to be listed in the chart. \n",
    "\n",
    "\n",
    "#### We will use 90th percentile as our cutoff. In other words, for a movie to feature in the charts, it must have more votes than at least 90% of the movies in the list."
   ]
  },
  {
   "cell_type": "code",
   "execution_count": null,
   "metadata": {},
   "outputs": [],
   "source": [
    "m = df2['vote_count'].quantile(0.9)\n",
    "m"
   ]
  },
  {
   "cell_type": "markdown",
   "metadata": {},
   "source": [
    "# Now, we can filter out the movies that qualify for the chart"
   ]
  },
  {
   "cell_type": "code",
   "execution_count": null,
   "metadata": {},
   "outputs": [],
   "source": [
    "q_movies = df2.copy().loc[df2['vote_count'] >= m]\n",
    "q_movies.shape"
   ]
  },
  {
   "cell_type": "markdown",
   "metadata": {},
   "source": [
    "## Creating function of formula\n",
    "\n",
    "<img src='../img/reco2.JPG'>"
   ]
  },
  {
   "cell_type": "code",
   "execution_count": null,
   "metadata": {},
   "outputs": [],
   "source": [
    "def weighted_rating(x, m=m, C=C):\n",
    "    v = x['vote_count']\n",
    "    R = x['vote_average']\n",
    "    # Calculation based on the IMDB formula\n",
    "    return (v/(v+m) * R) + (m/(m+v) * C)"
   ]
  },
  {
   "cell_type": "code",
   "execution_count": null,
   "metadata": {},
   "outputs": [],
   "source": [
    "# Define a new feature 'score' and calculate its value with `weighted_rating()`\n",
    "q_movies['score'] = q_movies.apply(weighted_rating, axis=1)"
   ]
  },
  {
   "cell_type": "markdown",
   "metadata": {},
   "source": [
    "### Finally, let's sort the DataFrame based on the score feature and output the title, vote count, vote average and weighted rating or score of the top 10 movies."
   ]
  },
  {
   "cell_type": "code",
   "execution_count": null,
   "metadata": {},
   "outputs": [],
   "source": [
    "#Sort movies based on score calculated above\n",
    "q_movies = q_movies.sort_values('score', ascending=False)\n",
    "\n",
    "#Print the top 10 movies\n",
    "q_movies.head(10)"
   ]
  },
  {
   "cell_type": "markdown",
   "metadata": {},
   "source": [
    "# Yay! We have made our first(though very basic) recommender. \n",
    "\n",
    "\n",
    "### Under the Trending Now tab of these systems we find movies that are very popular and they can just be obtained by sorting the dataset by the popularity column."
   ]
  },
  {
   "cell_type": "code",
   "execution_count": null,
   "metadata": {},
   "outputs": [],
   "source": [
    "pop= df2.sort_values('popularity', ascending=False)\n",
    "import matplotlib.pyplot as plt\n",
    "%matplotlib inline\n",
    "plt.figure(figsize=(12,4))\n",
    "\n",
    "plt.barh(pop['title'].head(6),pop['popularity'].head(6), align='center',\n",
    "        color='skyblue')\n",
    "plt.gca().invert_yaxis()\n",
    "plt.xlabel(\"Popularity\")\n",
    "plt.title(\"Popular Movies\")"
   ]
  },
  {
   "cell_type": "markdown",
   "metadata": {},
   "source": [
    "* **Now something to keep in mind is that these demographic recommender provide a general chart of recommended movies to all the users.**\n",
    "\n",
    "\n",
    "* ***They are not sensitive to the interests and tastes of a particular user.***\n",
    "\n",
    "\n",
    "# This is when we move on to a more refined system- \n",
    "\n",
    "# Content Based Filtering\n",
    "\n",
    "### In this recommender system the content of the movie (overview, cast, crew, keyword, tagline etc) is used to find its similarity with other movies. \n",
    "\n",
    "\n",
    "### Then the movies that are most likely to be similar are recommended.\n",
    "\n",
    "<img src='../img/reco3.JPG'>\n",
    "\n",
    "\n",
    "# Plot description based Recommender\n",
    "\n",
    "* We will compute pairwise similarity scores for all movies based on their plot descriptions and recommend movies based on that similarity score. \n",
    "\n",
    "\n",
    "* The plot description is given in the overview feature of our dataset. \n",
    "\n",
    "# Let's take a look at the data. ..\n",
    "\n"
   ]
  },
  {
   "cell_type": "code",
   "execution_count": null,
   "metadata": {},
   "outputs": [],
   "source": [
    "df2['overview'].head(15)"
   ]
  },
  {
   "cell_type": "markdown",
   "metadata": {},
   "source": [
    "# Text Pre-processing\n",
    "\n",
    "\n",
    "* For any of you who has done even a bit of text processing before knows we need to convert the **word vector** of each overview. \n",
    "\n",
    "<br><br>\n",
    "\n",
    "* Now we'll compute ***Term Frequency-Inverse Document Frequency (TF-IDF) vectors*** for each overview.\n",
    "\n",
    "<br><br>\n",
    "\n",
    "* Now if you are wondering what is ***term frequency***, it is the ***relative frequency of a word in a document and is given as (term instances/total instances)***. \n",
    "\n",
    "<br><br>\n",
    "\n",
    "* ***Inverse Document Frequency*** is the ***relative count of documents containing the term is given as log(number of documents/documents with term)***. \n",
    "<br><br><br>\n",
    "\n",
    "* The ***overall importance of each word to the documents in which they appear*** is equal to ***TF * IDF***\n",
    "\n",
    "<br><br>\n",
    "\n",
    "* This will give you a matrix where each column represents a word in the overview vocabulary (all the words that appear in at least one document) and each column represents a movie, as before.\n",
    "<br><br><br>\n",
    "\n",
    "* This is done to reduce the importance of words that occur frequently in plot overviews and therefore, their significance in computing the final similarity score.\n",
    "<br><br><br>\n",
    "* Fortunately, scikit-learn gives you a built-in TfIdfVectorizer class that produces the TF-IDF matrix in a couple of lines.\n",
    "\n",
    "<br>\n",
    "\n",
    "# That's great, isn't it?\n",
    "\n"
   ]
  },
  {
   "cell_type": "code",
   "execution_count": null,
   "metadata": {},
   "outputs": [],
   "source": [
    "#Import TfIdfVectorizer from scikit-learn\n",
    "from sklearn.feature_extraction.text import TfidfVectorizer\n",
    "\n",
    "#Define a TF-IDF Vectorizer Object. Remove all english stop words such as 'the', 'a'\n",
    "tfidf = TfidfVectorizer(stop_words='english')\n",
    "\n",
    "#Replace NaN with an empty string\n",
    "df2['overview'] = df2['overview'].fillna('')\n",
    "\n",
    "#Construct the required TF-IDF matrix by fitting and transforming the data\n",
    "tfidf_matrix = tfidf.fit_transform(df2['overview'])\n",
    "\n",
    "#Output the shape of tfidf_matrix\n",
    "tfidf_matrix.shape"
   ]
  },
  {
   "cell_type": "markdown",
   "metadata": {},
   "source": [
    "## We see that over 20,000 different words were used to describe the 4800 movies in our dataset.\n",
    "\n",
    "* With this matrix in hand, we can now compute a similarity score. \n",
    "<br><br><br>\n",
    "* There are several candidates for this; such as the ***euclidean, the Pearson and the cosine similarity scores.*** \n",
    "<br><br><br>\n",
    "* There is no right answer to which score is the best. \n",
    "<br><br><br>\n",
    "* Different scores work well in different scenarios and it is often a good idea to experiment with different metrics.\n",
    "<br><br><br>\n",
    "* We will be using the ***cosine similarity*** to calculate a numeric quantity that denotes the similarity between two movies.\n",
    "<br><br><br>\n",
    "* We use the ***cosine similarity score*** since it is independent of magnitude and is relatively easy and fast to calculate.\n",
    "<br><br><br>\n",
    "\n",
    "* Mathematically, it is defined as follows:\n",
    "\n",
    "<img src='../img/reco4.JPG'>\n",
    "\n",
    "\n",
    "# Since we have used the TF-IDF vectorizer, calculating the dot product will directly give us the cosine similarity score. \n",
    "\n",
    "\n",
    "# Therefore, we will use sklearn's linear_kernel() instead of cosine_similarities() since it is faster."
   ]
  },
  {
   "cell_type": "code",
   "execution_count": null,
   "metadata": {},
   "outputs": [],
   "source": [
    "# Import linear_kernel\n",
    "from sklearn.metrics.pairwise import linear_kernel\n",
    "\n",
    "# Compute the cosine similarity matrix\n",
    "cosine_sim = linear_kernel(tfidf_matrix, tfidf_matrix)"
   ]
  },
  {
   "cell_type": "markdown",
   "metadata": {},
   "source": [
    "### We are going to define a function that takes in a movie title as an input and outputs a list of the 10 most similar movies. \n",
    "\n",
    "### Firstly, for this, we need a reverse mapping of movie titles and DataFrame indices. \n",
    "\n",
    "### In other words, we need a mechanism to identify the index of a movie in our metadata DataFrame, given its title."
   ]
  },
  {
   "cell_type": "code",
   "execution_count": null,
   "metadata": {},
   "outputs": [],
   "source": [
    "#Construct a reverse map of indices and movie titles\n",
    "indices = pd.Series(df2.index, index=df2['title']).drop_duplicates()"
   ]
  },
  {
   "cell_type": "markdown",
   "metadata": {},
   "source": [
    "# We are now in a good position to define our recommendation function. \n",
    "\n",
    "# These are the following steps we'll follow -\n",
    "\n",
    "* Get the index of the movie given its title.\n",
    "<br><br><br>\n",
    "* Get the list of cosine similarity scores for that particular movie with all movies. \n",
    "<br><br><br>\n",
    "* Convert it into a list of tuples where the first element is its position and the second is the similarity score.\n",
    "<br><br><br>\n",
    "* Sort the aforementioned list of tuples based on the similarity scores; that is, the second element.\n",
    "<br><br><br>\n",
    "* Get the top 10 elements of this list. \n",
    "<br><br><br>\n",
    "* Ignore the first element as it refers to self (the movie most similar to a particular movie is the movie itself).\n",
    "<br><br><br>\n",
    "* Return the titles corresponding to the indices of the top elements."
   ]
  },
  {
   "cell_type": "code",
   "execution_count": null,
   "metadata": {},
   "outputs": [],
   "source": [
    "# Function that takes in movie title as input and outputs most similar movies\n",
    "def get_recommendations(title, cosine_sim=cosine_sim):\n",
    "    # Get the index of the movie that matches the title\n",
    "    idx = indices[title]\n",
    "\n",
    "    # Get the pairwsie similarity scores of all movies with that movie\n",
    "    sim_scores = list(enumerate(cosine_sim[idx]))\n",
    "\n",
    "    # Sort the movies based on the similarity scores\n",
    "    sim_scores = sorted(sim_scores, key=lambda x: x[1], reverse=True)\n",
    "\n",
    "    # Get the scores of the 10 most similar movies\n",
    "    sim_scores = sim_scores[1:11]\n",
    "\n",
    "    # Get the movie indices\n",
    "    movie_indices = [i[0] for i in sim_scores]\n",
    "\n",
    "    # Return the top 10 most similar movies\n",
    "    return df2['title'].iloc[movie_indices]"
   ]
  },
  {
   "cell_type": "code",
   "execution_count": null,
   "metadata": {},
   "outputs": [],
   "source": [
    "get_recommendations('The Dark Knight Rises')\n"
   ]
  },
  {
   "cell_type": "code",
   "execution_count": null,
   "metadata": {},
   "outputs": [],
   "source": [
    "get_recommendations('The Avengers')"
   ]
  },
  {
   "cell_type": "markdown",
   "metadata": {},
   "source": [
    "#### While our system has done a decent job of finding movies with similar plot descriptions, the quality of recommendations is not that great. \n",
    "\n",
    "#### \"The Dark Knight Rises\" returns all Batman movies while it is more likely that the people who liked that movie are more inclined to enjoy other Christopher Nolan movies. \n",
    "\n",
    "#### This is something that cannot be captured by the present system."
   ]
  },
  {
   "cell_type": "markdown",
   "metadata": {},
   "source": [
    "# Credits, Genres and Keywords Based Recommender\n",
    "\n",
    "<br>\n",
    "\n",
    "* It goes without saying that the quality of our recommender would be increased with the usage of better metadata. \n",
    "<br><br><br>\n",
    "\n",
    "* That is exactly what we are going to do in this section. \n",
    "\n",
    "\n",
    "#### We are going to build a recommender based on the following metadata: \n",
    "* \n",
    "    * the 3 top actors\n",
    "    * the director\n",
    "    * related genres and the movie plot keywords\n",
    "\n",
    "\n",
    "\n",
    "* From the cast, crew and keywords features, we need to extract the three most important actors, the director and the keywords associated with that movie. \n",
    "<br><br><br>\n",
    "\n",
    "* Right now, our data is present in the form of \"stringified\" lists , we need to convert it into a safe and usable structure"
   ]
  },
  {
   "cell_type": "code",
   "execution_count": null,
   "metadata": {},
   "outputs": [],
   "source": [
    "# Parse the stringified features into their corresponding python objects\n",
    "from ast import literal_eval\n",
    "\n",
    "features = ['cast', 'crew', 'keywords', 'genres']\n",
    "for feature in features:\n",
    "    df2[feature] = df2[feature].apply(literal_eval)"
   ]
  },
  {
   "cell_type": "markdown",
   "metadata": {},
   "source": [
    "# Next, we'll write functions that will help us to extract the required information from each feature."
   ]
  },
  {
   "cell_type": "code",
   "execution_count": null,
   "metadata": {},
   "outputs": [],
   "source": [
    "df2[feature].to_csv('sdj.csv')"
   ]
  },
  {
   "cell_type": "code",
   "execution_count": null,
   "metadata": {},
   "outputs": [],
   "source": [
    "# Get the director's name from the crew feature. If director is not listed, return NaN\n",
    "def get_director(x):\n",
    "    for i in x:\n",
    "        if i['job'] == 'Director':\n",
    "            return i['name']\n",
    "    return np.nan"
   ]
  },
  {
   "cell_type": "code",
   "execution_count": null,
   "metadata": {},
   "outputs": [],
   "source": [
    "# Returns the list top 3 elements or entire list; whichever is more.\n",
    "def get_list(x):\n",
    "    if isinstance(x, list):\n",
    "        names = [i['name'] for i in x]\n",
    "        #Check if more than 3 elements exist. If yes, return only first three. If no, return entire list.\n",
    "        if len(names) > 3:\n",
    "            names = names[:3]\n",
    "        return names\n",
    "\n",
    "    #Return empty list in case of missing/malformed data\n",
    "    return []"
   ]
  },
  {
   "cell_type": "code",
   "execution_count": null,
   "metadata": {},
   "outputs": [],
   "source": [
    "# Define new director, cast, genres and keywords features that are in a suitable form.\n",
    "df2['director'] = df2['crew'].apply(get_director)\n",
    "\n",
    "features = ['cast', 'keywords', 'genres']\n",
    "for feature in features:\n",
    "    df2[feature] = df2[feature].apply(get_list)"
   ]
  },
  {
   "cell_type": "code",
   "execution_count": null,
   "metadata": {},
   "outputs": [],
   "source": [
    "# Print the new features of the first 3 films\n",
    "df2[['title', 'cast', 'director', 'keywords', 'genres']].head(3)"
   ]
  },
  {
   "cell_type": "markdown",
   "metadata": {},
   "source": [
    "# The next step would be to convert the names and keyword instances into lowercase and strip all the spaces between them. \n",
    "\n",
    "# This is done so that our vectorizer doesn't count the Johnny of \"Johnny Depp\" and \"Johnny Galecki\" as the same."
   ]
  },
  {
   "cell_type": "code",
   "execution_count": null,
   "metadata": {},
   "outputs": [],
   "source": [
    "# Function to convert all strings to lower case and strip names of spaces\n",
    "def clean_data(x):\n",
    "    if isinstance(x, list):\n",
    "        return [str.lower(i.replace(\" \", \"\")) for i in x]\n",
    "    else:\n",
    "        #Check if director exists. If not, return empty string\n",
    "        if isinstance(x, str):\n",
    "            return str.lower(x.replace(\" \", \"\"))\n",
    "        else:\n",
    "            return ''"
   ]
  },
  {
   "cell_type": "code",
   "execution_count": null,
   "metadata": {},
   "outputs": [],
   "source": [
    "# Apply clean_data function to your features.\n",
    "features = ['cast', 'keywords', 'director', 'genres']\n",
    "\n",
    "for feature in features:\n",
    "    df2[feature] = df2[feature].apply(clean_data)\n"
   ]
  },
  {
   "cell_type": "markdown",
   "metadata": {},
   "source": [
    "#### We are now in a position to create our \"metadata soup\", which is a string that contains all the metadata that we want to feed to our vectorizer (namely actors, director and keywords)."
   ]
  },
  {
   "cell_type": "code",
   "execution_count": null,
   "metadata": {},
   "outputs": [],
   "source": [
    "def create_soup(x):\n",
    "    return ' '.join(x['keywords']) + ' ' + ' '.join(x['cast']) + ' ' + x['director'] + ' ' + ' '.join(x['genres'])\n",
    "df2['soup'] = df2.apply(create_soup, axis=1)"
   ]
  },
  {
   "cell_type": "code",
   "execution_count": null,
   "metadata": {},
   "outputs": [],
   "source": [
    "df2['soup'].head()"
   ]
  },
  {
   "cell_type": "markdown",
   "metadata": {},
   "source": [
    "#### The next steps are the same as what we did with our plot description based recommender. \n",
    "\n",
    "* One important difference is that we use the CountVectorizer() instead of TF-IDF. \n",
    "\n",
    "\n",
    "\n",
    "* This is because we do not want to down-weight the presence of an actor/director if he or she has acted or directed in relatively more movies. \n",
    "\n",
    "\n",
    "\n",
    "* It doesn't make much intuitive sense."
   ]
  },
  {
   "cell_type": "code",
   "execution_count": null,
   "metadata": {},
   "outputs": [],
   "source": [
    "# Import CountVectorizer and create the count matrix\n",
    "from sklearn.feature_extraction.text import CountVectorizer\n",
    "\n",
    "count = CountVectorizer(stop_words='english')\n",
    "count_matrix = count.fit_transform(df2['soup'])\n"
   ]
  },
  {
   "cell_type": "code",
   "execution_count": null,
   "metadata": {},
   "outputs": [],
   "source": [
    "# Compute the Cosine Similarity matrix based on the count_matrix\n",
    "from sklearn.metrics.pairwise import cosine_similarity\n",
    "\n",
    "cosine_sim2 = cosine_similarity(count_matrix, count_matrix)\n"
   ]
  },
  {
   "cell_type": "code",
   "execution_count": null,
   "metadata": {},
   "outputs": [],
   "source": [
    "# Reset index of our main DataFrame and construct reverse mapping as before\n",
    "df2 = df2.reset_index()\n",
    "indices = pd.Series(df2.index, index=df2['title'])\n"
   ]
  },
  {
   "cell_type": "code",
   "execution_count": null,
   "metadata": {},
   "outputs": [],
   "source": [
    "df2.head(10)"
   ]
  },
  {
   "cell_type": "markdown",
   "metadata": {},
   "source": [
    "# We can now reuse our get_recommendations() function by passing in the new cosine_sim2 matrix as your second argument."
   ]
  },
  {
   "cell_type": "code",
   "execution_count": null,
   "metadata": {},
   "outputs": [],
   "source": [
    "get_recommendations('The Dark Knight Rises', cosine_sim2)"
   ]
  },
  {
   "cell_type": "code",
   "execution_count": null,
   "metadata": {},
   "outputs": [],
   "source": [
    "get_recommendations('The Godfather', cosine_sim2)\n"
   ]
  },
  {
   "cell_type": "markdown",
   "metadata": {},
   "source": [
    "# We see that our recommender has been successful in capturing more information due to more metadata and has given us (arguably) better recommendations. \n",
    "\n",
    "# It is more likely that Marvels or DC comics fans will like the movies of the same production house. \n",
    "\n",
    "# Therefore, to our features above we can add production_company . \n",
    "\n",
    "# We can also increase the weight of the director , by adding the feature multiple times in the soup."
   ]
  },
  {
   "cell_type": "markdown",
   "metadata": {},
   "source": [
    "# Collaborative Filtering\n",
    "\n",
    "Our content based engine suffers from some severe limitations. It is only capable of suggesting movies which are close to a certain movie. That is, it is not capable of capturing tastes and providing recommendations across genres.\n",
    "\n",
    "Also, the engine that we built is not really personal in that it doesn't capture the personal tastes and biases of a user. Anyone querying our engine for recommendations based on a movie will receive the same recommendations for that movie, regardless of who she/he is.\n",
    "\n",
    "Therefore, in this section, we will use a technique called Collaborative Filtering to make recommendations to Movie Watchers. \n",
    "\n",
    "### It is basically of two types:-\n",
    "\n",
    "# User based filtering- \n",
    "* These systems recommend products to a user that similar users have liked. For measuring the similarity between two users we can either use pearson correlation or cosine similarity. \n",
    "\n",
    "\n",
    "\n",
    "* This filtering technique can be illustrated with an example. In the following matrixes, each row represents a user, while the columns correspond to different movies except the last one which records the similarity between that user and the target user. Each cell represents the rating that the user gives to that movie. Assume user E is the target.\n",
    "\n",
    "<img src='../img/reco5.JPG'>\n",
    "\n",
    "* Since user A and F do not share any movie ratings in common with user E, their similarities with user E are not defined in Pearson Correlation. \n",
    "\n",
    "\n",
    "* Therefore, we only need to consider user B, C, and D. Based on Pearson Correlation, we can compute the following similarity.\n",
    "\n",
    "<img src='../img/reco6.JPG'>\n",
    "\n",
    "\n",
    "* From the above table we can see that user D is very different from user E as the Pearson Correlation between them is negative. \n",
    "\n",
    "\n",
    "* He rated Me Before You higher than his rating average, while user E did the opposite. \n",
    "\n",
    "\n",
    "* Now, we can start to fill in the blank for the movies that user E has not rated based on other users.\n",
    "\n",
    "<img src='../img/reco7.JPG'>\n",
    "\n",
    "\n",
    "* Although computing user-based CF is very simple, it suffers from several problems. \n",
    "\n",
    "\n",
    "* One main issue is that users’ preference can change over time. \n",
    "\n",
    "\n",
    "* It indicates that precomputing the matrix based on their neighboring users may lead to bad performance. To tackle this problem, we can apply item-based CF.\n",
    "\n",
    "\n",
    "\n",
    "\n",
    "# Item Based Collaborative Filtering - \n",
    "\n",
    "* Instead of measuring the similarity between users, the item-based CF recommends items based on their similarity with the items that the target user rated. \n",
    "\n",
    "\n",
    "* Likewise, the similarity can be computed with Pearson Correlation or Cosine Similarity. The major difference is that, with item-based collaborative filtering, we fill in the blank vertically, as oppose to the horizontal manner that user-based CF does. \n",
    "\n",
    "\n",
    "* The following table shows how to do so for the movie Me Before You.\n",
    "\n",
    "\n",
    "<img src='../img/reco8.JPG'>\n",
    "\n",
    "\n",
    "* It successfully avoids the problem posed by dynamic user preference as item-based CF is more static. However, several problems remain for this method. First, the main issue is **scalability**. \n",
    "\n",
    "* The computation grows with both the customer and the product. The worst case complexity is O(mn) with m users and n items. \n",
    "\n",
    "\n",
    "* In addition, sparsity is another concern. Take a look at the above table again. Although there is only one user that rated both Matrix and Titanic rated, the similarity between them is 1. \n",
    "\n",
    "\n",
    "* In extreme cases, we can have millions of users and the similarity between two fairly different movies could be very high simply because they have similar rank for the only user who ranked them both.\n",
    "\n",
    "\n",
    "# Single Value Decomposition\n",
    "\n",
    "One way to handle the scalability and sparsity issue created by CF is to leverage a latent factor model to capture the similarity between users and items. Essentially, we want to turn the recommendation problem into an optimization problem. We can view it as how good we are in predicting the rating for items given a user. One common metric is Root Mean Square Error (RMSE). \n",
    "\n",
    "\n",
    "# The lower the RMSE, the better the performance.\n",
    "\n",
    "\n",
    "Now talking about latent factor you might be wondering what is it? \n",
    "\n",
    "It is a broad idea which describes a property or concept that a user or an item have. \n",
    "\n",
    "\n",
    "For instance, for music, latent factor can refer to the genre that the music belongs to. SVD decreases the dimension of the utility matrix by extracting its latent factors. \n",
    "\n",
    "Essentially, we map each user and each item into a latent space with dimension r. \n",
    "\n",
    "Therefore, it helps us better understand the relationship between users and items as they become directly comparable. The below figure illustrates this idea.\n",
    "\n",
    "<img src='../img/reco9.JPG'>\n",
    "\n",
    "Now enough said , let's see how to implement this. Since the dataset we used before did not have userId(which is necessary for collaborative filtering) let's load another dataset. \n",
    "\n",
    "We'll be using the **Surprise** library to implement SVD."
   ]
  },
  {
   "cell_type": "code",
   "execution_count": null,
   "metadata": {},
   "outputs": [],
   "source": [
    "#!conda install -c conda-forge scikit-surprise"
   ]
  },
  {
   "cell_type": "code",
   "execution_count": null,
   "metadata": {},
   "outputs": [],
   "source": [
    "from surprise import Reader, Dataset, SVD, evaluate\n",
    "reader = Reader()\n",
    "ratings = pd.read_csv('../datasets/ratings_small.csv')\n",
    "ratings.head()"
   ]
  },
  {
   "cell_type": "markdown",
   "metadata": {},
   "source": [
    "# Note that in this dataset movies are rated on a scale of 5 unlike the earlier one."
   ]
  },
  {
   "cell_type": "code",
   "execution_count": null,
   "metadata": {},
   "outputs": [],
   "source": [
    "data = Dataset.load_from_df(ratings[['userId', 'movieId', 'rating']], reader)\n",
    "data.split(n_folds=5)"
   ]
  },
  {
   "cell_type": "code",
   "execution_count": null,
   "metadata": {},
   "outputs": [],
   "source": [
    "svd = SVD()\n",
    "evaluate(svd, data, measures=['RMSE', 'MAE'])"
   ]
  },
  {
   "cell_type": "markdown",
   "metadata": {},
   "source": [
    "# We get a mean Root Mean Sqaure Error of 0.89 approx which is more than good enough for our case. Let us now train on our dataset and arrive at predictions.\n",
    "\n",
    "#### Let us pick user with user Id 1 and check the ratings she/he has given."
   ]
  },
  {
   "cell_type": "code",
   "execution_count": null,
   "metadata": {},
   "outputs": [],
   "source": [
    "ratings[ratings['userId'] == 1]"
   ]
  },
  {
   "cell_type": "code",
   "execution_count": null,
   "metadata": {},
   "outputs": [],
   "source": [
    "svd.predict(1, 302, 3)"
   ]
  },
  {
   "cell_type": "markdown",
   "metadata": {},
   "source": [
    "#### For movie with ID 302, we get an estimated prediction of 2.618. One startling feature of this recommender system is that it doesn't care what the movie is (or what it contains). \n",
    "\n",
    "#### It works purely on the basis of an assigned movie ID and tries to predict ratings based on how the other users have predicted the movie."
   ]
  },
  {
   "cell_type": "markdown",
   "metadata": {},
   "source": [
    "# Conclusion\n",
    "\n",
    "1. We created recommenders using demographic , content- based and collaborative filtering. \n",
    "\n",
    "\n",
    "2. While demographic filtering is very elemantary and cannot be used practically, Hybrid Systems can take advantage of content-based and collaborative filtering as the two approaches are proved to be almost complimentary. \n",
    "\n",
    "\n",
    "3. This model was very baseline and only provides a fundamental framework to start with.\n",
    "\n",
    "#### More Sources:\n",
    "https://hackernoon.com/introduction-to-recommender-system-part-1-collaborative-filtering-singular-value-decomposition-44c9659c5e75\n",
    "https://www.kaggle.com/rounakbanik/movie-recommender-systems\n",
    "http://trouvus.com/wp-content/uploads/2016/03/A-hybrid-movie-recommender-system-based-on-neural-networks.pdf"
   ]
  },
  {
   "cell_type": "code",
   "execution_count": null,
   "metadata": {},
   "outputs": [],
   "source": []
  }
 ],
 "metadata": {
  "kernelspec": {
   "display_name": "Python 3",
   "language": "python",
   "name": "python3"
  },
  "language_info": {
   "codemirror_mode": {
    "name": "ipython",
    "version": 3
   },
   "file_extension": ".py",
   "mimetype": "text/x-python",
   "name": "python",
   "nbconvert_exporter": "python",
   "pygments_lexer": "ipython3",
   "version": "3.7.3"
  }
 },
 "nbformat": 4,
 "nbformat_minor": 2
}
